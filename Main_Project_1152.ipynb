{
 "cells": [
  {
   "cell_type": "code",
   "execution_count": 2,
   "metadata": {
    "tags": [
     "Import_library"
    ]
   },
   "outputs": [],
   "source": [
    "import json\n",
    "import os\n",
    "import math\n",
    "import pickle\n",
    "import numpy as np\n",
    "from sklearn.model_selection import train_test_split\n",
    "import tensorflow.keras as keras\n",
    "import tensorflow as tf\n",
    "import structlog\n",
    "import librosa\n",
    "import matplotlib.pyplot as plt\n",
    "import sounddevice as sd\n",
    "from scipy.io.wavfile import write"
   ]
  },
  {
   "cell_type": "code",
   "execution_count": 3,
   "metadata": {
    "tags": [
     "Path_Set"
    ]
   },
   "outputs": [],
   "source": [
    "DATASET_PATH = \"Tamil_dataset\"\n",
    "JSON_PATH = \"pyt\\hon_files1/data1.json\"\n",
    "json_path1 = \"python_files1/data_2_new_2.json\"\n",
    "SAMPLE_RATE = 16000\n",
    "TRACK_DURATION = 1 \n",
    "SAMPLES_PER_TRACK = SAMPLE_RATE * TRACK_DURATION\n",
    "DATA_PATH = \"python_files1/data1.json\""
   ]
  },
  {
   "cell_type": "code",
   "execution_count": 4,
   "metadata": {
    "tags": [
     "Predict"
    ]
   },
   "outputs": [],
   "source": [
    "def predict_1(model, X):\n",
    "    \n",
    "    X = X[np.newaxis, ...]\n",
    "\n",
    "    prediction = model.predict(X)\n",
    "\n",
    "    predicted_index = np.argmax(prediction, axis=1)\n",
    "    if predicted_index == 0:\n",
    "        print(\" Your are affecting Dysarthria \")\n",
    "    if predicted_index == 1:\n",
    "        print(\" Your are voice is Normal Level \")\n",
    "    if predicted_index == 2:\n",
    "        print(\" Your are voice Not_audiable\")\n",
    "    if predicted_index == 3:\n",
    "        print(\" Your are affectings stuttering \")\n",
    "\n",
    "    "
   ]
  },
  {
   "cell_type": "code",
   "execution_count": 5,
   "metadata": {
    "tags": [
     "Convert_audio_into_MFFC_save_json_file"
    ]
   },
   "outputs": [],
   "source": [
    "def save_mfcc(dataset_path, json_path, num_mfcc=13, n_fft=2048, hop_length=512, num_segments=5):\n",
    "    \n",
    "    data = {\n",
    "        \"mapping\": [],\n",
    "        \"labels\": [],\n",
    "        \"mfcc\": []\n",
    "    }\n",
    "\n",
    "    samples_per_segment = int(SAMPLES_PER_TRACK / num_segments)\n",
    "    num_mfcc_vectors_per_segment = math.ceil(samples_per_segment / hop_length)\n",
    "\n",
    "\n",
    "    for i, (dirpath, dirnames, filenames) in enumerate(os.walk(dataset_path)):\n",
    "\n",
    "        if dirpath is not dataset_path:\n",
    "            \n",
    "            semantic_label = dirpath.split(\"\\\\\")[-1]\n",
    "            data[\"mapping\"].append(semantic_label)\n",
    "            print(\"\\nProcessing: {}\".format(semantic_label))\n",
    "\n",
    "            for f in filenames:\n",
    " \n",
    "                file_path = os.path.join(dirpath, f)\n",
    "                signal, sample_rate = librosa.load(file_path, sr=SAMPLE_RATE)\n",
    "                if len(signal) >= SAMPLE_RATE:\n",
    "                    signals = signal\n",
    "                else:\n",
    "                    signal = np.pad(\n",
    "                        signal,\n",
    "                        pad_width=(SAMPLE_RATE - len(signal), 0),\n",
    "                        mode=\"constant\",\n",
    "                        constant_values=(0, 0),\n",
    "                    )\n",
    "\n",
    "                for d in range(num_segments):\n",
    "\n",
    "                    start = samples_per_segment * d\n",
    "                    finish = start + samples_per_segment\n",
    "                    mfcc = librosa.feature.mfcc(signal[start:finish], sample_rate, n_mfcc=num_mfcc, n_fft=n_fft, hop_length=hop_length)\n",
    "                    mfcc = mfcc.T                   \n",
    "                    if len(mfcc) == num_mfcc_vectors_per_segment:\n",
    "                        data[\"mfcc\"].append(mfcc.tolist())\n",
    "                        data[\"labels\"].append(i-1)\n",
    "                        print(\"{}, segment:{}\".format(file_path, d+1))\n",
    "\n",
    "    with open(json_path, \"w\") as fp:\n",
    "        json.dump(data, fp, indent=4)"
   ]
  },
  {
   "cell_type": "code",
   "execution_count": 6,
   "metadata": {
    "tags": [
     "Load_data"
    ]
   },
   "outputs": [],
   "source": [
    "def load_data(data_path):\n",
    "    \n",
    "    with open(data_path, \"r\") as fp:\n",
    "        data = json.load(fp)\n",
    "\n",
    "    X = np.array(data[\"mfcc\"])\n",
    "    y = np.array(data[\"labels\"])\n",
    "    return X, y"
   ]
  },
  {
   "cell_type": "code",
   "execution_count": 7,
   "metadata": {
    "tags": [
     "Graph_plot"
    ]
   },
   "outputs": [],
   "source": [
    "def plot_history(history):\n",
    "\n",
    "    fig, axs = plt.subplots(1)\n",
    "    axs.plot(history.history[\"accuracy\"], label=\"train accuracy\")\n",
    "    axs.plot(history.history[\"val_accuracy\"], label=\"test accuracy\")\n",
    "    axs.set_ylabel(\"Accuracy\")\n",
    "    axs.legend(loc=\"lower right\")\n",
    "    axs.set_title(\"Accuracy eval\")\n",
    "    plt.show()\n",
    "    fig, axs = plt.subplots(1)\n",
    "    axs.plot(history.history[\"loss\"], label=\"train error\")\n",
    "    axs.plot(history.history[\"val_loss\"], label=\"test error\")\n",
    "    axs.set_ylabel(\"Error\")\n",
    "    axs.set_xlabel(\"Epoch\")\n",
    "    axs.legend(loc=\"upper right\")\n",
    "    axs.set_title(\"Error eval\")\n",
    "    plt.show()"
   ]
  },
  {
   "cell_type": "code",
   "execution_count": 8,
   "metadata": {
    "tags": [
     "Prepare_data_set"
    ]
   },
   "outputs": [],
   "source": [
    "def prepare_datasets(test_size, validation_size):\n",
    "\n",
    "\n",
    "    X, y = load_data(DATA_PATH)\n",
    "\n",
    "\n",
    "    X_train, X_test, y_train, y_test = train_test_split(X, y, test_size=test_size)\n",
    "    X_train, X_validation, y_train, y_validation = train_test_split(X_train, y_train, test_size=validation_size)\n",
    "    \n",
    "    X_train = X_train[..., np.newaxis]\n",
    "    X_validation = X_validation[..., np.newaxis]\n",
    "    X_test = X_test[..., np.newaxis]\n",
    "\n",
    "    return X_train, X_validation, X_test, y_train, y_validation, y_test"
   ]
  },
  {
   "cell_type": "code",
   "execution_count": 9,
   "metadata": {
    "tags": [
     "CNN_model_Build"
    ]
   },
   "outputs": [],
   "source": [
    "def build_model(input_shape):\n",
    "\n",
    "    model = keras.Sequential()\n",
    "    \n",
    "    model.add(keras.layers.Conv2D(128, (3, 3), activation='relu', input_shape=input_shape))\n",
    "    model.add(keras.layers.MaxPooling2D((3, 3), strides=(2, 2), padding='same'))\n",
    "    model.add(keras.layers.BatchNormalization()) \n",
    "    \n",
    "    model.add(keras.layers.Conv2D(32, (2, 2), activation='relu', input_shape=input_shape))\n",
    "    model.add(keras.layers.MaxPooling2D((2, 2), strides=(2, 2), padding='same'))\n",
    "    model.add(keras.layers.BatchNormalization())\n",
    "\n",
    "    model.add(keras.layers.Flatten())\n",
    "    model.add(keras.layers.Dense(64, activation='relu'))\n",
    "    model.add(keras.layers.Dropout(0.3))\n",
    "\n",
    "    model.add(keras.layers.Dense(26, activation='softmax'))\n",
    "\n",
    "    return model"
   ]
  },
  {
   "cell_type": "code",
   "execution_count": 10,
   "metadata": {
    "tags": [
     "Predict_test_data"
    ]
   },
   "outputs": [],
   "source": [
    "def predict(model, X, y):\n",
    "    \n",
    "    X = X[np.newaxis, ...]\n",
    "\n",
    "    prediction = model.predict(X)\n",
    "\n",
    "    predicted_index = np.argmax(prediction, axis=1)\n",
    "\n",
    "    print(\"Target: {}, Predicted label: {}\".format(y, predicted_index))"
   ]
  },
  {
   "cell_type": "code",
   "execution_count": 11,
   "metadata": {
    "tags": [
     "MFCC_fuction_call_and",
     "_main_function"
    ]
   },
   "outputs": [
    {
     "ename": "SyntaxError",
     "evalue": "unexpected EOF while parsing (<ipython-input-11-3747e9cc121f>, line 6)",
     "output_type": "error",
     "traceback": [
      "\u001b[1;36m  File \u001b[1;32m\"<ipython-input-11-3747e9cc121f>\"\u001b[1;36m, line \u001b[1;32m6\u001b[0m\n\u001b[1;33m    \u001b[0m\n\u001b[1;37m    ^\u001b[0m\n\u001b[1;31mSyntaxError\u001b[0m\u001b[1;31m:\u001b[0m unexpected EOF while parsing\n"
     ]
    }
   ],
   "source": [
    "if __name__ == \"__main__\":\n",
    "    \n",
    "    \n",
    "    #save_mfcc(DATASET_PATH, JSON_PATH, num_segments=1)\n",
    "    \n",
    "    "
   ]
  },
  {
   "cell_type": "code",
   "execution_count": 12,
   "metadata": {
    "tags": [
     "Prepare_data_function_call"
    ]
   },
   "outputs": [],
   "source": [
    "    X_train, X_validation, X_test, y_train, y_validation, y_test = prepare_datasets(0.30, 0.20)"
   ]
  },
  {
   "cell_type": "code",
   "execution_count": 13,
   "metadata": {
    "tags": [
     "Model_built_call"
    ]
   },
   "outputs": [],
   "source": [
    "    input_shape = (X_train.shape[1], X_train.shape[2], 1)\n",
    "    model = build_model(input_shape)"
   ]
  },
  {
   "cell_type": "code",
   "execution_count": 14,
   "metadata": {
    "tags": [
     "Compile_model"
    ]
   },
   "outputs": [],
   "source": [
    "    optimiser = keras.optimizers.Adam(learning_rate=0.0001)\n",
    "    model.compile(optimizer=optimiser,\n",
    "                  loss='sparse_categorical_crossentropy',\n",
    "                  metrics=['accuracy'])"
   ]
  },
  {
   "cell_type": "code",
   "execution_count": 15,
   "metadata": {
    "tags": [
     "Fit_Model"
    ]
   },
   "outputs": [
    {
     "name": "stdout",
     "output_type": "stream",
     "text": [
      "Epoch 1/30\n",
      "103/103 [==============================] - ETA: 0s - loss: 4.8825 - accuracy: 0.0000e+ - ETA: 3s - loss: 4.5312 - accuracy: 0.0156   - ETA: 3s - loss: 4.2664 - accuracy: 0.00 - ETA: 4s - loss: 4.2302 - accuracy: 0.00 - ETA: 4s - loss: 4.0864 - accuracy: 0.00 - ETA: 3s - loss: 3.9550 - accuracy: 0.01 - ETA: 4s - loss: 3.8549 - accuracy: 0.02 - ETA: 4s - loss: 3.8319 - accuracy: 0.02 - ETA: 4s - loss: 3.7667 - accuracy: 0.02 - ETA: 4s - loss: 3.7029 - accuracy: 0.03 - ETA: 4s - loss: 3.5817 - accuracy: 0.05 - ETA: 4s - loss: 3.5109 - accuracy: 0.06 - ETA: 3s - loss: 3.4197 - accuracy: 0.07 - ETA: 3s - loss: 3.3246 - accuracy: 0.08 - ETA: 3s - loss: 3.2816 - accuracy: 0.09 - ETA: 3s - loss: 3.1732 - accuracy: 0.11 - ETA: 3s - loss: 3.0914 - accuracy: 0.12 - ETA: 3s - loss: 3.0547 - accuracy: 0.13 - ETA: 3s - loss: 2.9648 - accuracy: 0.15 - ETA: 3s - loss: 2.8865 - accuracy: 0.18 - ETA: 3s - loss: 2.8436 - accuracy: 0.19 - ETA: 3s - loss: 2.7768 - accuracy: 0.21 - ETA: 3s - loss: 2.7067 - accuracy: 0.23 - ETA: 3s - loss: 2.6811 - accuracy: 0.24 - ETA: 3s - loss: 2.6030 - accuracy: 0.26 - ETA: 2s - loss: 2.5402 - accuracy: 0.28 - ETA: 2s - loss: 2.5099 - accuracy: 0.29 - ETA: 2s - loss: 2.4809 - accuracy: 0.30 - ETA: 2s - loss: 2.4224 - accuracy: 0.32 - ETA: 2s - loss: 2.4054 - accuracy: 0.33 - ETA: 2s - loss: 2.3538 - accuracy: 0.34 - ETA: 2s - loss: 2.3055 - accuracy: 0.35 - ETA: 2s - loss: 2.2779 - accuracy: 0.36 - ETA: 2s - loss: 2.2323 - accuracy: 0.37 - ETA: 2s - loss: 2.2137 - accuracy: 0.38 - ETA: 2s - loss: 2.1713 - accuracy: 0.39 - ETA: 2s - loss: 2.1518 - accuracy: 0.40 - ETA: 2s - loss: 2.1139 - accuracy: 0.41 - ETA: 2s - loss: 2.0932 - accuracy: 0.41 - ETA: 1s - loss: 2.0558 - accuracy: 0.42 - ETA: 1s - loss: 2.0391 - accuracy: 0.43 - ETA: 1s - loss: 2.0063 - accuracy: 0.44 - ETA: 1s - loss: 1.9902 - accuracy: 0.44 - ETA: 1s - loss: 1.9577 - accuracy: 0.45 - ETA: 1s - loss: 1.9461 - accuracy: 0.45 - ETA: 1s - loss: 1.9114 - accuracy: 0.46 - ETA: 1s - loss: 1.8990 - accuracy: 0.47 - ETA: 1s - loss: 1.8797 - accuracy: 0.47 - ETA: 1s - loss: 1.8500 - accuracy: 0.48 - ETA: 1s - loss: 1.8205 - accuracy: 0.49 - ETA: 1s - loss: 1.8088 - accuracy: 0.49 - ETA: 1s - loss: 1.7949 - accuracy: 0.49 - ETA: 1s - loss: 1.7740 - accuracy: 0.50 - ETA: 1s - loss: 1.7619 - accuracy: 0.50 - ETA: 1s - loss: 1.7477 - accuracy: 0.51 - ETA: 0s - loss: 1.7200 - accuracy: 0.51 - ETA: 0s - loss: 1.7074 - accuracy: 0.52 - ETA: 0s - loss: 1.6892 - accuracy: 0.52 - ETA: 0s - loss: 1.6667 - accuracy: 0.53 - ETA: 0s - loss: 1.6588 - accuracy: 0.53 - ETA: 0s - loss: 1.6495 - accuracy: 0.53 - ETA: 0s - loss: 1.6407 - accuracy: 0.54 - ETA: 0s - loss: 1.6191 - accuracy: 0.54 - ETA: 0s - loss: 1.6087 - accuracy: 0.54 - ETA: 0s - loss: 1.5875 - accuracy: 0.55 - ETA: 0s - loss: 1.5769 - accuracy: 0.55 - ETA: 0s - loss: 1.5682 - accuracy: 0.56 - ETA: 0s - loss: 1.5594 - accuracy: 0.56 - ETA: 0s - loss: 1.5504 - accuracy: 0.56 - ETA: 0s - loss: 1.5338 - accuracy: 0.57 - 5s 53ms/step - loss: 1.5338 - accuracy: 0.5703 - val_loss: 0.7384 - val_accuracy: 0.7457\n",
      "Epoch 2/30\n",
      "103/103 [==============================] - ETA: 0s - loss: 0.7562 - accuracy: 0.75 - ETA: 2s - loss: 0.7231 - accuracy: 0.78 - ETA: 3s - loss: 0.6897 - accuracy: 0.79 - ETA: 3s - loss: 0.6739 - accuracy: 0.80 - ETA: 4s - loss: 0.6532 - accuracy: 0.81 - ETA: 4s - loss: 0.6445 - accuracy: 0.80 - ETA: 4s - loss: 0.6326 - accuracy: 0.80 - ETA: 4s - loss: 0.6437 - accuracy: 0.79 - ETA: 4s - loss: 0.6232 - accuracy: 0.79 - ETA: 4s - loss: 0.6154 - accuracy: 0.79 - ETA: 4s - loss: 0.6044 - accuracy: 0.80 - ETA: 4s - loss: 0.5969 - accuracy: 0.80 - ETA: 4s - loss: 0.6119 - accuracy: 0.80 - ETA: 4s - loss: 0.6085 - accuracy: 0.80 - ETA: 3s - loss: 0.6069 - accuracy: 0.80 - ETA: 3s - loss: 0.6113 - accuracy: 0.80 - ETA: 3s - loss: 0.6001 - accuracy: 0.80 - ETA: 3s - loss: 0.5950 - accuracy: 0.80 - ETA: 3s - loss: 0.5981 - accuracy: 0.79 - ETA: 3s - loss: 0.5980 - accuracy: 0.80 - ETA: 3s - loss: 0.6038 - accuracy: 0.79 - ETA: 3s - loss: 0.6067 - accuracy: 0.79 - ETA: 3s - loss: 0.6057 - accuracy: 0.79 - ETA: 3s - loss: 0.5936 - accuracy: 0.79 - ETA: 3s - loss: 0.5968 - accuracy: 0.79 - ETA: 3s - loss: 0.5907 - accuracy: 0.79 - ETA: 3s - loss: 0.5861 - accuracy: 0.80 - ETA: 3s - loss: 0.5850 - accuracy: 0.80 - ETA: 3s - loss: 0.5796 - accuracy: 0.80 - ETA: 3s - loss: 0.5792 - accuracy: 0.80 - ETA: 3s - loss: 0.5809 - accuracy: 0.80 - ETA: 3s - loss: 0.5791 - accuracy: 0.80 - ETA: 2s - loss: 0.5755 - accuracy: 0.80 - ETA: 2s - loss: 0.5753 - accuracy: 0.80 - ETA: 2s - loss: 0.5726 - accuracy: 0.80 - ETA: 2s - loss: 0.5722 - accuracy: 0.80 - ETA: 2s - loss: 0.5752 - accuracy: 0.80 - ETA: 2s - loss: 0.5735 - accuracy: 0.80 - ETA: 2s - loss: 0.5723 - accuracy: 0.80 - ETA: 2s - loss: 0.5765 - accuracy: 0.80 - ETA: 2s - loss: 0.5748 - accuracy: 0.80 - ETA: 2s - loss: 0.5740 - accuracy: 0.80 - ETA: 2s - loss: 0.5722 - accuracy: 0.80 - ETA: 2s - loss: 0.5701 - accuracy: 0.80 - ETA: 2s - loss: 0.5632 - accuracy: 0.80 - ETA: 2s - loss: 0.5617 - accuracy: 0.80 - ETA: 2s - loss: 0.5573 - accuracy: 0.80 - ETA: 2s - loss: 0.5541 - accuracy: 0.81 - ETA: 1s - loss: 0.5551 - accuracy: 0.80 - ETA: 1s - loss: 0.5551 - accuracy: 0.80 - ETA: 1s - loss: 0.5505 - accuracy: 0.81 - ETA: 1s - loss: 0.5485 - accuracy: 0.81 - ETA: 1s - loss: 0.5464 - accuracy: 0.81 - ETA: 1s - loss: 0.5441 - accuracy: 0.81 - ETA: 1s - loss: 0.5466 - accuracy: 0.81 - ETA: 1s - loss: 0.5487 - accuracy: 0.81 - ETA: 1s - loss: 0.5467 - accuracy: 0.81 - ETA: 1s - loss: 0.5516 - accuracy: 0.81 - ETA: 1s - loss: 0.5515 - accuracy: 0.81 - ETA: 1s - loss: 0.5475 - accuracy: 0.81 - ETA: 1s - loss: 0.5447 - accuracy: 0.81 - ETA: 1s - loss: 0.5421 - accuracy: 0.81 - ETA: 1s - loss: 0.5469 - accuracy: 0.81 - ETA: 0s - loss: 0.5481 - accuracy: 0.81 - ETA: 0s - loss: 0.5470 - accuracy: 0.81 - ETA: 0s - loss: 0.5443 - accuracy: 0.81 - ETA: 0s - loss: 0.5421 - accuracy: 0.81 - ETA: 0s - loss: 0.5390 - accuracy: 0.81 - ETA: 0s - loss: 0.5360 - accuracy: 0.82 - ETA: 0s - loss: 0.5343 - accuracy: 0.82 - ETA: 0s - loss: 0.5331 - accuracy: 0.82 - ETA: 0s - loss: 0.5352 - accuracy: 0.81 - ETA: 0s - loss: 0.5341 - accuracy: 0.82 - ETA: 0s - loss: 0.5331 - accuracy: 0.82 - ETA: 0s - loss: 0.5316 - accuracy: 0.82 - ETA: 0s - loss: 0.5307 - accuracy: 0.82 - ETA: 0s - loss: 0.5288 - accuracy: 0.82 - ETA: 0s - loss: 0.5259 - accuracy: 0.82 - ETA: 0s - loss: 0.5263 - accuracy: 0.82 - 5s 53ms/step - loss: 0.5263 - accuracy: 0.8225 - val_loss: 0.3473 - val_accuracy: 0.8844\n",
      "Epoch 3/30\n"
     ]
    },
    {
     "name": "stdout",
     "output_type": "stream",
     "text": [
      "103/103 [==============================] - ETA: 0s - loss: 0.4306 - accuracy: 0.84 - ETA: 3s - loss: 0.3873 - accuracy: 0.84 - ETA: 3s - loss: 0.3869 - accuracy: 0.85 - ETA: 4s - loss: 0.4339 - accuracy: 0.82 - ETA: 4s - loss: 0.4307 - accuracy: 0.82 - ETA: 4s - loss: 0.4279 - accuracy: 0.82 - ETA: 4s - loss: 0.4182 - accuracy: 0.82 - ETA: 4s - loss: 0.4015 - accuracy: 0.83 - ETA: 4s - loss: 0.4214 - accuracy: 0.82 - ETA: 4s - loss: 0.4231 - accuracy: 0.82 - ETA: 4s - loss: 0.4170 - accuracy: 0.83 - ETA: 4s - loss: 0.4250 - accuracy: 0.83 - ETA: 4s - loss: 0.4163 - accuracy: 0.83 - ETA: 4s - loss: 0.4158 - accuracy: 0.83 - ETA: 4s - loss: 0.4110 - accuracy: 0.84 - ETA: 3s - loss: 0.4086 - accuracy: 0.84 - ETA: 3s - loss: 0.4095 - accuracy: 0.84 - ETA: 3s - loss: 0.4042 - accuracy: 0.84 - ETA: 3s - loss: 0.3958 - accuracy: 0.84 - ETA: 3s - loss: 0.3955 - accuracy: 0.84 - ETA: 3s - loss: 0.3902 - accuracy: 0.85 - ETA: 3s - loss: 0.3885 - accuracy: 0.85 - ETA: 3s - loss: 0.3919 - accuracy: 0.85 - ETA: 3s - loss: 0.3978 - accuracy: 0.84 - ETA: 3s - loss: 0.3981 - accuracy: 0.84 - ETA: 3s - loss: 0.3918 - accuracy: 0.85 - ETA: 3s - loss: 0.3942 - accuracy: 0.85 - ETA: 3s - loss: 0.3910 - accuracy: 0.85 - ETA: 3s - loss: 0.3878 - accuracy: 0.85 - ETA: 3s - loss: 0.3916 - accuracy: 0.85 - ETA: 3s - loss: 0.3890 - accuracy: 0.85 - ETA: 2s - loss: 0.3920 - accuracy: 0.85 - ETA: 2s - loss: 0.3920 - accuracy: 0.85 - ETA: 2s - loss: 0.3924 - accuracy: 0.85 - ETA: 2s - loss: 0.3902 - accuracy: 0.85 - ETA: 2s - loss: 0.3901 - accuracy: 0.85 - ETA: 2s - loss: 0.3887 - accuracy: 0.85 - ETA: 2s - loss: 0.3861 - accuracy: 0.86 - ETA: 2s - loss: 0.3854 - accuracy: 0.86 - ETA: 2s - loss: 0.3831 - accuracy: 0.86 - ETA: 2s - loss: 0.3808 - accuracy: 0.86 - ETA: 2s - loss: 0.3766 - accuracy: 0.86 - ETA: 2s - loss: 0.3798 - accuracy: 0.86 - ETA: 2s - loss: 0.3757 - accuracy: 0.86 - ETA: 2s - loss: 0.3807 - accuracy: 0.86 - ETA: 2s - loss: 0.3840 - accuracy: 0.86 - ETA: 1s - loss: 0.3843 - accuracy: 0.86 - ETA: 1s - loss: 0.3835 - accuracy: 0.86 - ETA: 1s - loss: 0.3807 - accuracy: 0.86 - ETA: 1s - loss: 0.3786 - accuracy: 0.86 - ETA: 1s - loss: 0.3796 - accuracy: 0.86 - ETA: 1s - loss: 0.3763 - accuracy: 0.86 - ETA: 1s - loss: 0.3730 - accuracy: 0.86 - ETA: 1s - loss: 0.3742 - accuracy: 0.86 - ETA: 1s - loss: 0.3732 - accuracy: 0.86 - ETA: 1s - loss: 0.3713 - accuracy: 0.86 - ETA: 1s - loss: 0.3723 - accuracy: 0.86 - ETA: 1s - loss: 0.3703 - accuracy: 0.87 - ETA: 0s - loss: 0.3716 - accuracy: 0.87 - ETA: 0s - loss: 0.3712 - accuracy: 0.87 - ETA: 0s - loss: 0.3728 - accuracy: 0.87 - ETA: 0s - loss: 0.3709 - accuracy: 0.87 - ETA: 0s - loss: 0.3680 - accuracy: 0.87 - ETA: 0s - loss: 0.3686 - accuracy: 0.87 - ETA: 0s - loss: 0.3691 - accuracy: 0.87 - ETA: 0s - loss: 0.3667 - accuracy: 0.87 - ETA: 0s - loss: 0.3661 - accuracy: 0.87 - ETA: 0s - loss: 0.3670 - accuracy: 0.87 - ETA: 0s - loss: 0.3657 - accuracy: 0.87 - ETA: 0s - loss: 0.3626 - accuracy: 0.87 - ETA: 0s - loss: 0.3669 - accuracy: 0.87 - 5s 50ms/step - loss: 0.3669 - accuracy: 0.8718 - val_loss: 0.2501 - val_accuracy: 0.9051\n",
      "Epoch 4/30\n",
      "103/103 [==============================] - ETA: 0s - loss: 0.3014 - accuracy: 0.87 - ETA: 3s - loss: 0.3308 - accuracy: 0.87 - ETA: 3s - loss: 0.2855 - accuracy: 0.89 - ETA: 3s - loss: 0.2892 - accuracy: 0.89 - ETA: 3s - loss: 0.2859 - accuracy: 0.89 - ETA: 3s - loss: 0.2966 - accuracy: 0.89 - ETA: 3s - loss: 0.2907 - accuracy: 0.89 - ETA: 3s - loss: 0.3034 - accuracy: 0.88 - ETA: 3s - loss: 0.3033 - accuracy: 0.88 - ETA: 3s - loss: 0.3052 - accuracy: 0.87 - ETA: 3s - loss: 0.3054 - accuracy: 0.87 - ETA: 3s - loss: 0.3023 - accuracy: 0.88 - ETA: 3s - loss: 0.2968 - accuracy: 0.88 - ETA: 3s - loss: 0.3008 - accuracy: 0.88 - ETA: 3s - loss: 0.3083 - accuracy: 0.87 - ETA: 3s - loss: 0.3017 - accuracy: 0.88 - ETA: 3s - loss: 0.2983 - accuracy: 0.88 - ETA: 3s - loss: 0.2974 - accuracy: 0.88 - ETA: 3s - loss: 0.3008 - accuracy: 0.88 - ETA: 3s - loss: 0.2990 - accuracy: 0.88 - ETA: 3s - loss: 0.2974 - accuracy: 0.88 - ETA: 3s - loss: 0.2951 - accuracy: 0.89 - ETA: 3s - loss: 0.2990 - accuracy: 0.88 - ETA: 2s - loss: 0.3015 - accuracy: 0.88 - ETA: 2s - loss: 0.2972 - accuracy: 0.88 - ETA: 2s - loss: 0.3009 - accuracy: 0.88 - ETA: 2s - loss: 0.3004 - accuracy: 0.88 - ETA: 2s - loss: 0.2979 - accuracy: 0.88 - ETA: 2s - loss: 0.2967 - accuracy: 0.88 - ETA: 2s - loss: 0.2997 - accuracy: 0.88 - ETA: 2s - loss: 0.2979 - accuracy: 0.88 - ETA: 2s - loss: 0.2954 - accuracy: 0.88 - ETA: 2s - loss: 0.2952 - accuracy: 0.88 - ETA: 2s - loss: 0.2952 - accuracy: 0.88 - ETA: 2s - loss: 0.2912 - accuracy: 0.88 - ETA: 2s - loss: 0.2901 - accuracy: 0.89 - ETA: 2s - loss: 0.2868 - accuracy: 0.89 - ETA: 2s - loss: 0.2844 - accuracy: 0.89 - ETA: 1s - loss: 0.2862 - accuracy: 0.89 - ETA: 1s - loss: 0.2833 - accuracy: 0.89 - ETA: 1s - loss: 0.2858 - accuracy: 0.89 - ETA: 1s - loss: 0.2872 - accuracy: 0.89 - ETA: 1s - loss: 0.2851 - accuracy: 0.89 - ETA: 1s - loss: 0.2848 - accuracy: 0.89 - ETA: 1s - loss: 0.2864 - accuracy: 0.89 - ETA: 1s - loss: 0.2854 - accuracy: 0.89 - ETA: 1s - loss: 0.2852 - accuracy: 0.89 - ETA: 1s - loss: 0.2835 - accuracy: 0.89 - ETA: 1s - loss: 0.2823 - accuracy: 0.89 - ETA: 1s - loss: 0.2818 - accuracy: 0.89 - ETA: 1s - loss: 0.2813 - accuracy: 0.89 - ETA: 1s - loss: 0.2819 - accuracy: 0.89 - ETA: 1s - loss: 0.2858 - accuracy: 0.89 - ETA: 0s - loss: 0.2840 - accuracy: 0.89 - ETA: 0s - loss: 0.2872 - accuracy: 0.89 - ETA: 0s - loss: 0.2874 - accuracy: 0.89 - ETA: 0s - loss: 0.2881 - accuracy: 0.89 - ETA: 0s - loss: 0.2879 - accuracy: 0.89 - ETA: 0s - loss: 0.2882 - accuracy: 0.89 - ETA: 0s - loss: 0.2889 - accuracy: 0.89 - ETA: 0s - loss: 0.2881 - accuracy: 0.89 - ETA: 0s - loss: 0.2872 - accuracy: 0.89 - ETA: 0s - loss: 0.2862 - accuracy: 0.89 - ETA: 0s - loss: 0.2834 - accuracy: 0.89 - ETA: 0s - loss: 0.2850 - accuracy: 0.89 - ETA: 0s - loss: 0.2849 - accuracy: 0.89 - 5s 48ms/step - loss: 0.2845 - accuracy: 0.8937 - val_loss: 0.2175 - val_accuracy: 0.9161\n",
      "Epoch 5/30\n"
     ]
    },
    {
     "name": "stdout",
     "output_type": "stream",
     "text": [
      "103/103 [==============================] - ETA: 0s - loss: 0.2640 - accuracy: 0.87 - ETA: 2s - loss: 0.2304 - accuracy: 0.92 - ETA: 3s - loss: 0.2578 - accuracy: 0.89 - ETA: 3s - loss: 0.2410 - accuracy: 0.90 - ETA: 4s - loss: 0.2412 - accuracy: 0.90 - ETA: 4s - loss: 0.2151 - accuracy: 0.91 - ETA: 4s - loss: 0.2408 - accuracy: 0.90 - ETA: 4s - loss: 0.2709 - accuracy: 0.89 - ETA: 3s - loss: 0.2597 - accuracy: 0.90 - ETA: 4s - loss: 0.2685 - accuracy: 0.90 - ETA: 3s - loss: 0.2618 - accuracy: 0.90 - ETA: 3s - loss: 0.2581 - accuracy: 0.90 - ETA: 3s - loss: 0.2512 - accuracy: 0.90 - ETA: 3s - loss: 0.2476 - accuracy: 0.90 - ETA: 3s - loss: 0.2460 - accuracy: 0.90 - ETA: 3s - loss: 0.2459 - accuracy: 0.90 - ETA: 3s - loss: 0.2388 - accuracy: 0.91 - ETA: 3s - loss: 0.2389 - accuracy: 0.91 - ETA: 3s - loss: 0.2353 - accuracy: 0.91 - ETA: 3s - loss: 0.2353 - accuracy: 0.91 - ETA: 3s - loss: 0.2322 - accuracy: 0.91 - ETA: 3s - loss: 0.2268 - accuracy: 0.91 - ETA: 3s - loss: 0.2296 - accuracy: 0.91 - ETA: 2s - loss: 0.2281 - accuracy: 0.91 - ETA: 2s - loss: 0.2297 - accuracy: 0.91 - ETA: 2s - loss: 0.2297 - accuracy: 0.92 - ETA: 2s - loss: 0.2319 - accuracy: 0.91 - ETA: 2s - loss: 0.2312 - accuracy: 0.91 - ETA: 2s - loss: 0.2347 - accuracy: 0.91 - ETA: 2s - loss: 0.2363 - accuracy: 0.91 - ETA: 2s - loss: 0.2353 - accuracy: 0.91 - ETA: 2s - loss: 0.2361 - accuracy: 0.91 - ETA: 2s - loss: 0.2328 - accuracy: 0.91 - ETA: 2s - loss: 0.2390 - accuracy: 0.91 - ETA: 2s - loss: 0.2406 - accuracy: 0.91 - ETA: 2s - loss: 0.2405 - accuracy: 0.91 - ETA: 1s - loss: 0.2388 - accuracy: 0.91 - ETA: 1s - loss: 0.2402 - accuracy: 0.91 - ETA: 1s - loss: 0.2386 - accuracy: 0.91 - ETA: 1s - loss: 0.2435 - accuracy: 0.91 - ETA: 1s - loss: 0.2410 - accuracy: 0.91 - ETA: 1s - loss: 0.2416 - accuracy: 0.91 - ETA: 1s - loss: 0.2414 - accuracy: 0.91 - ETA: 1s - loss: 0.2413 - accuracy: 0.91 - ETA: 1s - loss: 0.2432 - accuracy: 0.91 - ETA: 1s - loss: 0.2471 - accuracy: 0.91 - ETA: 1s - loss: 0.2450 - accuracy: 0.91 - ETA: 1s - loss: 0.2436 - accuracy: 0.91 - ETA: 0s - loss: 0.2440 - accuracy: 0.91 - ETA: 0s - loss: 0.2463 - accuracy: 0.91 - ETA: 0s - loss: 0.2462 - accuracy: 0.91 - ETA: 0s - loss: 0.2471 - accuracy: 0.91 - ETA: 0s - loss: 0.2476 - accuracy: 0.91 - ETA: 0s - loss: 0.2470 - accuracy: 0.91 - ETA: 0s - loss: 0.2487 - accuracy: 0.90 - ETA: 0s - loss: 0.2478 - accuracy: 0.90 - ETA: 0s - loss: 0.2480 - accuracy: 0.90 - ETA: 0s - loss: 0.2483 - accuracy: 0.90 - ETA: 0s - loss: 0.2486 - accuracy: 0.90 - ETA: 0s - loss: 0.2491 - accuracy: 0.90 - ETA: 0s - loss: 0.2481 - accuracy: 0.90 - ETA: 0s - loss: 0.2476 - accuracy: 0.90 - 5s 47ms/step - loss: 0.2479 - accuracy: 0.9080 - val_loss: 0.2316 - val_accuracy: 0.9015\n",
      "Epoch 6/30\n",
      "103/103 [==============================] - ETA: 0s - loss: 0.2151 - accuracy: 0.90 - ETA: 2s - loss: 0.1608 - accuracy: 0.93 - ETA: 3s - loss: 0.1800 - accuracy: 0.92 - ETA: 3s - loss: 0.2062 - accuracy: 0.91 - ETA: 3s - loss: 0.2079 - accuracy: 0.92 - ETA: 4s - loss: 0.2199 - accuracy: 0.92 - ETA: 4s - loss: 0.2008 - accuracy: 0.93 - ETA: 3s - loss: 0.2249 - accuracy: 0.92 - ETA: 3s - loss: 0.2240 - accuracy: 0.93 - ETA: 3s - loss: 0.2173 - accuracy: 0.93 - ETA: 3s - loss: 0.2190 - accuracy: 0.93 - ETA: 3s - loss: 0.2235 - accuracy: 0.93 - ETA: 3s - loss: 0.2272 - accuracy: 0.92 - ETA: 3s - loss: 0.2238 - accuracy: 0.92 - ETA: 3s - loss: 0.2190 - accuracy: 0.92 - ETA: 3s - loss: 0.2191 - accuracy: 0.93 - ETA: 3s - loss: 0.2167 - accuracy: 0.93 - ETA: 3s - loss: 0.2162 - accuracy: 0.93 - ETA: 3s - loss: 0.2189 - accuracy: 0.93 - ETA: 3s - loss: 0.2167 - accuracy: 0.93 - ETA: 3s - loss: 0.2167 - accuracy: 0.92 - ETA: 3s - loss: 0.2156 - accuracy: 0.93 - ETA: 2s - loss: 0.2179 - accuracy: 0.92 - ETA: 2s - loss: 0.2175 - accuracy: 0.92 - ETA: 2s - loss: 0.2225 - accuracy: 0.92 - ETA: 2s - loss: 0.2209 - accuracy: 0.92 - ETA: 2s - loss: 0.2184 - accuracy: 0.92 - ETA: 2s - loss: 0.2201 - accuracy: 0.92 - ETA: 2s - loss: 0.2215 - accuracy: 0.92 - ETA: 2s - loss: 0.2191 - accuracy: 0.92 - ETA: 2s - loss: 0.2228 - accuracy: 0.92 - ETA: 2s - loss: 0.2273 - accuracy: 0.92 - ETA: 2s - loss: 0.2238 - accuracy: 0.92 - ETA: 2s - loss: 0.2230 - accuracy: 0.92 - ETA: 2s - loss: 0.2231 - accuracy: 0.92 - ETA: 2s - loss: 0.2251 - accuracy: 0.92 - ETA: 1s - loss: 0.2234 - accuracy: 0.92 - ETA: 1s - loss: 0.2226 - accuracy: 0.92 - ETA: 1s - loss: 0.2213 - accuracy: 0.92 - ETA: 1s - loss: 0.2185 - accuracy: 0.92 - ETA: 1s - loss: 0.2206 - accuracy: 0.92 - ETA: 1s - loss: 0.2186 - accuracy: 0.92 - ETA: 1s - loss: 0.2185 - accuracy: 0.92 - ETA: 1s - loss: 0.2159 - accuracy: 0.92 - ETA: 1s - loss: 0.2150 - accuracy: 0.92 - ETA: 1s - loss: 0.2144 - accuracy: 0.92 - ETA: 1s - loss: 0.2153 - accuracy: 0.92 - ETA: 1s - loss: 0.2165 - accuracy: 0.92 - ETA: 1s - loss: 0.2164 - accuracy: 0.92 - ETA: 1s - loss: 0.2168 - accuracy: 0.92 - ETA: 1s - loss: 0.2168 - accuracy: 0.92 - ETA: 0s - loss: 0.2164 - accuracy: 0.92 - ETA: 0s - loss: 0.2155 - accuracy: 0.92 - ETA: 0s - loss: 0.2168 - accuracy: 0.92 - ETA: 0s - loss: 0.2180 - accuracy: 0.92 - ETA: 0s - loss: 0.2174 - accuracy: 0.92 - ETA: 0s - loss: 0.2164 - accuracy: 0.92 - ETA: 0s - loss: 0.2161 - accuracy: 0.92 - ETA: 0s - loss: 0.2154 - accuracy: 0.92 - ETA: 0s - loss: 0.2142 - accuracy: 0.92 - ETA: 0s - loss: 0.2129 - accuracy: 0.92 - ETA: 0s - loss: 0.2137 - accuracy: 0.92 - ETA: 0s - loss: 0.2137 - accuracy: 0.92 - ETA: 0s - loss: 0.2129 - accuracy: 0.92 - ETA: 0s - loss: 0.2137 - accuracy: 0.92 - ETA: 0s - loss: 0.2122 - accuracy: 0.92 - ETA: 0s - loss: 0.2115 - accuracy: 0.92 - ETA: 0s - loss: 0.2105 - accuracy: 0.92 - ETA: 0s - loss: 0.2130 - accuracy: 0.92 - ETA: 0s - loss: 0.2123 - accuracy: 0.92 - ETA: 0s - loss: 0.2124 - accuracy: 0.92 - ETA: 0s - loss: 0.2113 - accuracy: 0.92 - 5s 52ms/step - loss: 0.2107 - accuracy: 0.9254 - val_loss: 0.1757 - val_accuracy: 0.9234\n",
      "Epoch 7/30\n"
     ]
    },
    {
     "name": "stdout",
     "output_type": "stream",
     "text": [
      "103/103 [==============================] - ETA: 0s - loss: 0.2127 - accuracy: 0.90 - ETA: 3s - loss: 0.1825 - accuracy: 0.93 - ETA: 3s - loss: 0.1990 - accuracy: 0.93 - ETA: 4s - loss: 0.1966 - accuracy: 0.92 - ETA: 4s - loss: 0.1823 - accuracy: 0.92 - ETA: 4s - loss: 0.1764 - accuracy: 0.92 - ETA: 4s - loss: 0.1702 - accuracy: 0.93 - ETA: 4s - loss: 0.1688 - accuracy: 0.93 - ETA: 4s - loss: 0.1810 - accuracy: 0.93 - ETA: 4s - loss: 0.1754 - accuracy: 0.93 - ETA: 4s - loss: 0.1681 - accuracy: 0.93 - ETA: 4s - loss: 0.1672 - accuracy: 0.94 - ETA: 4s - loss: 0.1669 - accuracy: 0.94 - ETA: 4s - loss: 0.1726 - accuracy: 0.93 - ETA: 4s - loss: 0.1675 - accuracy: 0.94 - ETA: 4s - loss: 0.1639 - accuracy: 0.94 - ETA: 4s - loss: 0.1629 - accuracy: 0.94 - ETA: 4s - loss: 0.1678 - accuracy: 0.93 - ETA: 4s - loss: 0.1660 - accuracy: 0.93 - ETA: 4s - loss: 0.1655 - accuracy: 0.93 - ETA: 4s - loss: 0.1676 - accuracy: 0.93 - ETA: 4s - loss: 0.1685 - accuracy: 0.94 - ETA: 4s - loss: 0.1678 - accuracy: 0.93 - ETA: 4s - loss: 0.1738 - accuracy: 0.93 - ETA: 3s - loss: 0.1798 - accuracy: 0.93 - ETA: 3s - loss: 0.1796 - accuracy: 0.93 - ETA: 3s - loss: 0.1809 - accuracy: 0.93 - ETA: 3s - loss: 0.1826 - accuracy: 0.93 - ETA: 3s - loss: 0.1786 - accuracy: 0.93 - ETA: 3s - loss: 0.1791 - accuracy: 0.93 - ETA: 3s - loss: 0.1820 - accuracy: 0.93 - ETA: 3s - loss: 0.1841 - accuracy: 0.93 - ETA: 3s - loss: 0.1862 - accuracy: 0.92 - ETA: 3s - loss: 0.1839 - accuracy: 0.93 - ETA: 3s - loss: 0.1848 - accuracy: 0.93 - ETA: 3s - loss: 0.1855 - accuracy: 0.92 - ETA: 3s - loss: 0.1831 - accuracy: 0.93 - ETA: 3s - loss: 0.1830 - accuracy: 0.93 - ETA: 2s - loss: 0.1852 - accuracy: 0.92 - ETA: 2s - loss: 0.1868 - accuracy: 0.92 - ETA: 2s - loss: 0.1860 - accuracy: 0.93 - ETA: 2s - loss: 0.1856 - accuracy: 0.93 - ETA: 2s - loss: 0.1897 - accuracy: 0.92 - ETA: 2s - loss: 0.1926 - accuracy: 0.92 - ETA: 2s - loss: 0.1914 - accuracy: 0.92 - ETA: 2s - loss: 0.1885 - accuracy: 0.92 - ETA: 2s - loss: 0.1872 - accuracy: 0.92 - ETA: 2s - loss: 0.1893 - accuracy: 0.92 - ETA: 2s - loss: 0.1901 - accuracy: 0.92 - ETA: 2s - loss: 0.1888 - accuracy: 0.92 - ETA: 2s - loss: 0.1882 - accuracy: 0.93 - ETA: 2s - loss: 0.1884 - accuracy: 0.93 - ETA: 1s - loss: 0.1902 - accuracy: 0.92 - ETA: 1s - loss: 0.1887 - accuracy: 0.93 - ETA: 1s - loss: 0.1895 - accuracy: 0.92 - ETA: 1s - loss: 0.1908 - accuracy: 0.92 - ETA: 1s - loss: 0.1898 - accuracy: 0.92 - ETA: 1s - loss: 0.1886 - accuracy: 0.92 - ETA: 1s - loss: 0.1880 - accuracy: 0.92 - ETA: 1s - loss: 0.1883 - accuracy: 0.92 - ETA: 1s - loss: 0.1907 - accuracy: 0.92 - ETA: 1s - loss: 0.1888 - accuracy: 0.92 - ETA: 1s - loss: 0.1909 - accuracy: 0.92 - ETA: 1s - loss: 0.1934 - accuracy: 0.92 - ETA: 0s - loss: 0.1927 - accuracy: 0.92 - ETA: 0s - loss: 0.1925 - accuracy: 0.92 - ETA: 0s - loss: 0.1928 - accuracy: 0.92 - ETA: 0s - loss: 0.1955 - accuracy: 0.92 - ETA: 0s - loss: 0.1956 - accuracy: 0.92 - ETA: 0s - loss: 0.1960 - accuracy: 0.92 - ETA: 0s - loss: 0.1960 - accuracy: 0.92 - ETA: 0s - loss: 0.1961 - accuracy: 0.92 - ETA: 0s - loss: 0.1972 - accuracy: 0.92 - ETA: 0s - loss: 0.1981 - accuracy: 0.92 - ETA: 0s - loss: 0.1994 - accuracy: 0.92 - 6s 54ms/step - loss: 0.1994 - accuracy: 0.9242 - val_loss: 0.1863 - val_accuracy: 0.9209\n",
      "Epoch 8/30\n",
      "103/103 [==============================] - ETA: 0s - loss: 0.2391 - accuracy: 0.84 - ETA: 2s - loss: 0.1815 - accuracy: 0.88 - ETA: 3s - loss: 0.1493 - accuracy: 0.91 - ETA: 3s - loss: 0.1532 - accuracy: 0.92 - ETA: 3s - loss: 0.1582 - accuracy: 0.92 - ETA: 3s - loss: 0.1485 - accuracy: 0.92 - ETA: 3s - loss: 0.1592 - accuracy: 0.92 - ETA: 3s - loss: 0.1608 - accuracy: 0.92 - ETA: 3s - loss: 0.1662 - accuracy: 0.92 - ETA: 3s - loss: 0.1676 - accuracy: 0.92 - ETA: 3s - loss: 0.1629 - accuracy: 0.92 - ETA: 3s - loss: 0.1627 - accuracy: 0.92 - ETA: 3s - loss: 0.1642 - accuracy: 0.92 - ETA: 3s - loss: 0.1664 - accuracy: 0.92 - ETA: 3s - loss: 0.1662 - accuracy: 0.92 - ETA: 3s - loss: 0.1632 - accuracy: 0.93 - ETA: 3s - loss: 0.1690 - accuracy: 0.92 - ETA: 3s - loss: 0.1729 - accuracy: 0.92 - ETA: 3s - loss: 0.1792 - accuracy: 0.92 - ETA: 3s - loss: 0.1775 - accuracy: 0.92 - ETA: 3s - loss: 0.1808 - accuracy: 0.92 - ETA: 2s - loss: 0.1820 - accuracy: 0.92 - ETA: 2s - loss: 0.1855 - accuracy: 0.92 - ETA: 2s - loss: 0.1856 - accuracy: 0.92 - ETA: 2s - loss: 0.1843 - accuracy: 0.92 - ETA: 2s - loss: 0.1880 - accuracy: 0.92 - ETA: 2s - loss: 0.1881 - accuracy: 0.92 - ETA: 2s - loss: 0.1885 - accuracy: 0.92 - ETA: 2s - loss: 0.1866 - accuracy: 0.92 - ETA: 2s - loss: 0.1836 - accuracy: 0.92 - ETA: 2s - loss: 0.1810 - accuracy: 0.92 - ETA: 2s - loss: 0.1813 - accuracy: 0.92 - ETA: 2s - loss: 0.1789 - accuracy: 0.92 - ETA: 2s - loss: 0.1818 - accuracy: 0.92 - ETA: 1s - loss: 0.1795 - accuracy: 0.92 - ETA: 1s - loss: 0.1781 - accuracy: 0.92 - ETA: 1s - loss: 0.1804 - accuracy: 0.92 - ETA: 1s - loss: 0.1807 - accuracy: 0.92 - ETA: 1s - loss: 0.1821 - accuracy: 0.92 - ETA: 1s - loss: 0.1853 - accuracy: 0.92 - ETA: 1s - loss: 0.1842 - accuracy: 0.92 - ETA: 1s - loss: 0.1845 - accuracy: 0.92 - ETA: 1s - loss: 0.1846 - accuracy: 0.92 - ETA: 1s - loss: 0.1850 - accuracy: 0.92 - ETA: 1s - loss: 0.1847 - accuracy: 0.92 - ETA: 1s - loss: 0.1848 - accuracy: 0.92 - ETA: 1s - loss: 0.1847 - accuracy: 0.92 - ETA: 1s - loss: 0.1837 - accuracy: 0.92 - ETA: 0s - loss: 0.1840 - accuracy: 0.92 - ETA: 0s - loss: 0.1838 - accuracy: 0.92 - ETA: 0s - loss: 0.1829 - accuracy: 0.92 - ETA: 0s - loss: 0.1818 - accuracy: 0.92 - ETA: 0s - loss: 0.1818 - accuracy: 0.92 - ETA: 0s - loss: 0.1826 - accuracy: 0.92 - ETA: 0s - loss: 0.1841 - accuracy: 0.92 - ETA: 0s - loss: 0.1848 - accuracy: 0.92 - ETA: 0s - loss: 0.1856 - accuracy: 0.92 - ETA: 0s - loss: 0.1863 - accuracy: 0.92 - ETA: 0s - loss: 0.1860 - accuracy: 0.92 - ETA: 0s - loss: 0.1845 - accuracy: 0.92 - ETA: 0s - loss: 0.1837 - accuracy: 0.92 - 5s 47ms/step - loss: 0.1831 - accuracy: 0.9278 - val_loss: 0.1608 - val_accuracy: 0.9307\n",
      "Epoch 9/30\n"
     ]
    },
    {
     "name": "stdout",
     "output_type": "stream",
     "text": [
      "103/103 [==============================] - ETA: 0s - loss: 0.1909 - accuracy: 0.96 - ETA: 2s - loss: 0.1739 - accuracy: 0.94 - ETA: 3s - loss: 0.1780 - accuracy: 0.93 - ETA: 3s - loss: 0.1496 - accuracy: 0.94 - ETA: 3s - loss: 0.1421 - accuracy: 0.95 - ETA: 3s - loss: 0.1396 - accuracy: 0.95 - ETA: 3s - loss: 0.1376 - accuracy: 0.95 - ETA: 3s - loss: 0.1373 - accuracy: 0.95 - ETA: 3s - loss: 0.1395 - accuracy: 0.94 - ETA: 3s - loss: 0.1338 - accuracy: 0.95 - ETA: 3s - loss: 0.1342 - accuracy: 0.95 - ETA: 3s - loss: 0.1355 - accuracy: 0.95 - ETA: 3s - loss: 0.1339 - accuracy: 0.95 - ETA: 3s - loss: 0.1305 - accuracy: 0.95 - ETA: 3s - loss: 0.1287 - accuracy: 0.95 - ETA: 3s - loss: 0.1298 - accuracy: 0.95 - ETA: 3s - loss: 0.1279 - accuracy: 0.95 - ETA: 3s - loss: 0.1259 - accuracy: 0.95 - ETA: 3s - loss: 0.1239 - accuracy: 0.95 - ETA: 3s - loss: 0.1327 - accuracy: 0.95 - ETA: 3s - loss: 0.1447 - accuracy: 0.95 - ETA: 3s - loss: 0.1457 - accuracy: 0.95 - ETA: 2s - loss: 0.1435 - accuracy: 0.95 - ETA: 2s - loss: 0.1441 - accuracy: 0.95 - ETA: 2s - loss: 0.1489 - accuracy: 0.95 - ETA: 2s - loss: 0.1569 - accuracy: 0.94 - ETA: 2s - loss: 0.1583 - accuracy: 0.94 - ETA: 2s - loss: 0.1609 - accuracy: 0.94 - ETA: 2s - loss: 0.1628 - accuracy: 0.94 - ETA: 2s - loss: 0.1655 - accuracy: 0.93 - ETA: 2s - loss: 0.1650 - accuracy: 0.93 - ETA: 2s - loss: 0.1628 - accuracy: 0.94 - ETA: 2s - loss: 0.1674 - accuracy: 0.93 - ETA: 2s - loss: 0.1680 - accuracy: 0.93 - ETA: 2s - loss: 0.1686 - accuracy: 0.93 - ETA: 2s - loss: 0.1731 - accuracy: 0.93 - ETA: 2s - loss: 0.1725 - accuracy: 0.93 - ETA: 1s - loss: 0.1718 - accuracy: 0.93 - ETA: 1s - loss: 0.1714 - accuracy: 0.93 - ETA: 1s - loss: 0.1721 - accuracy: 0.93 - ETA: 1s - loss: 0.1719 - accuracy: 0.93 - ETA: 1s - loss: 0.1708 - accuracy: 0.93 - ETA: 1s - loss: 0.1694 - accuracy: 0.93 - ETA: 1s - loss: 0.1677 - accuracy: 0.93 - ETA: 1s - loss: 0.1689 - accuracy: 0.93 - ETA: 1s - loss: 0.1700 - accuracy: 0.93 - ETA: 1s - loss: 0.1720 - accuracy: 0.93 - ETA: 1s - loss: 0.1721 - accuracy: 0.93 - ETA: 1s - loss: 0.1737 - accuracy: 0.93 - ETA: 1s - loss: 0.1737 - accuracy: 0.93 - ETA: 1s - loss: 0.1740 - accuracy: 0.93 - ETA: 1s - loss: 0.1727 - accuracy: 0.93 - ETA: 0s - loss: 0.1717 - accuracy: 0.93 - ETA: 0s - loss: 0.1695 - accuracy: 0.93 - ETA: 0s - loss: 0.1684 - accuracy: 0.93 - ETA: 0s - loss: 0.1685 - accuracy: 0.93 - ETA: 0s - loss: 0.1682 - accuracy: 0.93 - ETA: 0s - loss: 0.1691 - accuracy: 0.93 - ETA: 0s - loss: 0.1695 - accuracy: 0.93 - ETA: 0s - loss: 0.1684 - accuracy: 0.93 - ETA: 0s - loss: 0.1686 - accuracy: 0.93 - ETA: 0s - loss: 0.1683 - accuracy: 0.93 - ETA: 0s - loss: 0.1679 - accuracy: 0.93 - ETA: 0s - loss: 0.1683 - accuracy: 0.93 - ETA: 0s - loss: 0.1680 - accuracy: 0.93 - 5s 47ms/step - loss: 0.1680 - accuracy: 0.9373 - val_loss: 0.1513 - val_accuracy: 0.9331\n",
      "Epoch 10/30\n",
      "103/103 [==============================] - ETA: 0s - loss: 0.2239 - accuracy: 0.90 - ETA: 2s - loss: 0.1673 - accuracy: 0.92 - ETA: 3s - loss: 0.2044 - accuracy: 0.91 - ETA: 3s - loss: 0.1677 - accuracy: 0.93 - ETA: 3s - loss: 0.1604 - accuracy: 0.93 - ETA: 3s - loss: 0.1761 - accuracy: 0.92 - ETA: 3s - loss: 0.1671 - accuracy: 0.93 - ETA: 3s - loss: 0.1636 - accuracy: 0.93 - ETA: 3s - loss: 0.1772 - accuracy: 0.92 - ETA: 3s - loss: 0.1727 - accuracy: 0.92 - ETA: 3s - loss: 0.1739 - accuracy: 0.92 - ETA: 3s - loss: 0.1765 - accuracy: 0.93 - ETA: 3s - loss: 0.1702 - accuracy: 0.93 - ETA: 3s - loss: 0.1750 - accuracy: 0.93 - ETA: 3s - loss: 0.1694 - accuracy: 0.93 - ETA: 3s - loss: 0.1681 - accuracy: 0.93 - ETA: 3s - loss: 0.1660 - accuracy: 0.93 - ETA: 3s - loss: 0.1671 - accuracy: 0.93 - ETA: 3s - loss: 0.1633 - accuracy: 0.93 - ETA: 3s - loss: 0.1666 - accuracy: 0.93 - ETA: 2s - loss: 0.1643 - accuracy: 0.93 - ETA: 2s - loss: 0.1647 - accuracy: 0.93 - ETA: 2s - loss: 0.1677 - accuracy: 0.93 - ETA: 2s - loss: 0.1696 - accuracy: 0.93 - ETA: 2s - loss: 0.1672 - accuracy: 0.93 - ETA: 2s - loss: 0.1646 - accuracy: 0.93 - ETA: 2s - loss: 0.1646 - accuracy: 0.94 - ETA: 2s - loss: 0.1646 - accuracy: 0.93 - ETA: 2s - loss: 0.1634 - accuracy: 0.93 - ETA: 2s - loss: 0.1623 - accuracy: 0.93 - ETA: 2s - loss: 0.1598 - accuracy: 0.93 - ETA: 2s - loss: 0.1614 - accuracy: 0.93 - ETA: 2s - loss: 0.1633 - accuracy: 0.93 - ETA: 2s - loss: 0.1628 - accuracy: 0.93 - ETA: 1s - loss: 0.1616 - accuracy: 0.94 - ETA: 1s - loss: 0.1584 - accuracy: 0.94 - ETA: 1s - loss: 0.1616 - accuracy: 0.94 - ETA: 1s - loss: 0.1616 - accuracy: 0.94 - ETA: 1s - loss: 0.1602 - accuracy: 0.94 - ETA: 1s - loss: 0.1586 - accuracy: 0.94 - ETA: 1s - loss: 0.1589 - accuracy: 0.94 - ETA: 1s - loss: 0.1582 - accuracy: 0.94 - ETA: 1s - loss: 0.1591 - accuracy: 0.94 - ETA: 1s - loss: 0.1613 - accuracy: 0.94 - ETA: 1s - loss: 0.1607 - accuracy: 0.94 - ETA: 1s - loss: 0.1591 - accuracy: 0.94 - ETA: 1s - loss: 0.1565 - accuracy: 0.94 - ETA: 0s - loss: 0.1574 - accuracy: 0.94 - ETA: 0s - loss: 0.1553 - accuracy: 0.94 - ETA: 0s - loss: 0.1553 - accuracy: 0.94 - ETA: 0s - loss: 0.1543 - accuracy: 0.94 - ETA: 0s - loss: 0.1564 - accuracy: 0.94 - ETA: 0s - loss: 0.1588 - accuracy: 0.94 - ETA: 0s - loss: 0.1585 - accuracy: 0.94 - ETA: 0s - loss: 0.1593 - accuracy: 0.94 - ETA: 0s - loss: 0.1608 - accuracy: 0.93 - ETA: 0s - loss: 0.1605 - accuracy: 0.94 - ETA: 0s - loss: 0.1604 - accuracy: 0.94 - ETA: 0s - loss: 0.1598 - accuracy: 0.94 - ETA: 0s - loss: 0.1594 - accuracy: 0.94 - 5s 46ms/step - loss: 0.1594 - accuracy: 0.9409 - val_loss: 0.1647 - val_accuracy: 0.9258\n",
      "Epoch 11/30\n"
     ]
    },
    {
     "name": "stdout",
     "output_type": "stream",
     "text": [
      "103/103 [==============================] - ETA: 0s - loss: 0.0999 - accuracy: 0.96 - ETA: 2s - loss: 0.0849 - accuracy: 0.97 - ETA: 3s - loss: 0.0832 - accuracy: 0.97 - ETA: 3s - loss: 0.0915 - accuracy: 0.97 - ETA: 3s - loss: 0.0851 - accuracy: 0.97 - ETA: 3s - loss: 0.1009 - accuracy: 0.97 - ETA: 3s - loss: 0.1238 - accuracy: 0.95 - ETA: 3s - loss: 0.1271 - accuracy: 0.95 - ETA: 3s - loss: 0.1256 - accuracy: 0.95 - ETA: 3s - loss: 0.1233 - accuracy: 0.95 - ETA: 3s - loss: 0.1275 - accuracy: 0.95 - ETA: 3s - loss: 0.1235 - accuracy: 0.95 - ETA: 3s - loss: 0.1213 - accuracy: 0.95 - ETA: 3s - loss: 0.1195 - accuracy: 0.95 - ETA: 3s - loss: 0.1234 - accuracy: 0.95 - ETA: 3s - loss: 0.1212 - accuracy: 0.95 - ETA: 3s - loss: 0.1201 - accuracy: 0.95 - ETA: 3s - loss: 0.1216 - accuracy: 0.95 - ETA: 3s - loss: 0.1215 - accuracy: 0.95 - ETA: 3s - loss: 0.1254 - accuracy: 0.95 - ETA: 3s - loss: 0.1241 - accuracy: 0.95 - ETA: 3s - loss: 0.1259 - accuracy: 0.95 - ETA: 3s - loss: 0.1291 - accuracy: 0.95 - ETA: 2s - loss: 0.1286 - accuracy: 0.95 - ETA: 2s - loss: 0.1354 - accuracy: 0.95 - ETA: 2s - loss: 0.1370 - accuracy: 0.95 - ETA: 2s - loss: 0.1370 - accuracy: 0.95 - ETA: 2s - loss: 0.1352 - accuracy: 0.95 - ETA: 2s - loss: 0.1355 - accuracy: 0.95 - ETA: 2s - loss: 0.1381 - accuracy: 0.94 - ETA: 2s - loss: 0.1377 - accuracy: 0.94 - ETA: 2s - loss: 0.1388 - accuracy: 0.94 - ETA: 2s - loss: 0.1406 - accuracy: 0.94 - ETA: 2s - loss: 0.1415 - accuracy: 0.94 - ETA: 2s - loss: 0.1431 - accuracy: 0.94 - ETA: 2s - loss: 0.1447 - accuracy: 0.94 - ETA: 2s - loss: 0.1438 - accuracy: 0.94 - ETA: 1s - loss: 0.1418 - accuracy: 0.94 - ETA: 1s - loss: 0.1409 - accuracy: 0.94 - ETA: 1s - loss: 0.1402 - accuracy: 0.94 - ETA: 1s - loss: 0.1406 - accuracy: 0.94 - ETA: 1s - loss: 0.1411 - accuracy: 0.94 - ETA: 1s - loss: 0.1432 - accuracy: 0.94 - ETA: 1s - loss: 0.1458 - accuracy: 0.94 - ETA: 1s - loss: 0.1446 - accuracy: 0.94 - ETA: 1s - loss: 0.1452 - accuracy: 0.94 - ETA: 1s - loss: 0.1474 - accuracy: 0.94 - ETA: 1s - loss: 0.1463 - accuracy: 0.94 - ETA: 1s - loss: 0.1449 - accuracy: 0.94 - ETA: 1s - loss: 0.1449 - accuracy: 0.94 - ETA: 0s - loss: 0.1450 - accuracy: 0.94 - ETA: 0s - loss: 0.1459 - accuracy: 0.94 - ETA: 0s - loss: 0.1471 - accuracy: 0.94 - ETA: 0s - loss: 0.1480 - accuracy: 0.94 - ETA: 0s - loss: 0.1496 - accuracy: 0.94 - ETA: 0s - loss: 0.1486 - accuracy: 0.94 - ETA: 0s - loss: 0.1495 - accuracy: 0.94 - ETA: 0s - loss: 0.1495 - accuracy: 0.94 - ETA: 0s - loss: 0.1497 - accuracy: 0.94 - ETA: 0s - loss: 0.1494 - accuracy: 0.94 - ETA: 0s - loss: 0.1477 - accuracy: 0.94 - ETA: 0s - loss: 0.1478 - accuracy: 0.94 - ETA: 0s - loss: 0.1477 - accuracy: 0.94 - ETA: 0s - loss: 0.1469 - accuracy: 0.94 - 5s 48ms/step - loss: 0.1469 - accuracy: 0.9440 - val_loss: 0.1360 - val_accuracy: 0.9392\n",
      "Epoch 12/30\n",
      "103/103 [==============================] - ETA: 0s - loss: 0.0651 - accuracy: 0.93 - ETA: 2s - loss: 0.0903 - accuracy: 0.94 - ETA: 3s - loss: 0.1074 - accuracy: 0.95 - ETA: 3s - loss: 0.1403 - accuracy: 0.94 - ETA: 3s - loss: 0.1441 - accuracy: 0.93 - ETA: 3s - loss: 0.1336 - accuracy: 0.94 - ETA: 3s - loss: 0.1257 - accuracy: 0.95 - ETA: 3s - loss: 0.1367 - accuracy: 0.95 - ETA: 3s - loss: 0.1406 - accuracy: 0.94 - ETA: 3s - loss: 0.1392 - accuracy: 0.94 - ETA: 3s - loss: 0.1412 - accuracy: 0.94 - ETA: 3s - loss: 0.1443 - accuracy: 0.94 - ETA: 3s - loss: 0.1472 - accuracy: 0.94 - ETA: 3s - loss: 0.1500 - accuracy: 0.94 - ETA: 3s - loss: 0.1470 - accuracy: 0.94 - ETA: 3s - loss: 0.1474 - accuracy: 0.94 - ETA: 3s - loss: 0.1446 - accuracy: 0.94 - ETA: 3s - loss: 0.1399 - accuracy: 0.94 - ETA: 3s - loss: 0.1413 - accuracy: 0.94 - ETA: 3s - loss: 0.1462 - accuracy: 0.93 - ETA: 2s - loss: 0.1446 - accuracy: 0.93 - ETA: 2s - loss: 0.1449 - accuracy: 0.93 - ETA: 2s - loss: 0.1420 - accuracy: 0.93 - ETA: 2s - loss: 0.1413 - accuracy: 0.94 - ETA: 2s - loss: 0.1411 - accuracy: 0.94 - ETA: 2s - loss: 0.1423 - accuracy: 0.94 - ETA: 2s - loss: 0.1400 - accuracy: 0.94 - ETA: 2s - loss: 0.1406 - accuracy: 0.94 - ETA: 2s - loss: 0.1398 - accuracy: 0.94 - ETA: 2s - loss: 0.1392 - accuracy: 0.94 - ETA: 2s - loss: 0.1406 - accuracy: 0.94 - ETA: 2s - loss: 0.1384 - accuracy: 0.94 - ETA: 2s - loss: 0.1377 - accuracy: 0.94 - ETA: 2s - loss: 0.1366 - accuracy: 0.94 - ETA: 1s - loss: 0.1382 - accuracy: 0.94 - ETA: 1s - loss: 0.1369 - accuracy: 0.94 - ETA: 1s - loss: 0.1373 - accuracy: 0.94 - ETA: 1s - loss: 0.1371 - accuracy: 0.94 - ETA: 1s - loss: 0.1382 - accuracy: 0.94 - ETA: 1s - loss: 0.1389 - accuracy: 0.94 - ETA: 1s - loss: 0.1386 - accuracy: 0.94 - ETA: 1s - loss: 0.1392 - accuracy: 0.94 - ETA: 1s - loss: 0.1382 - accuracy: 0.94 - ETA: 1s - loss: 0.1376 - accuracy: 0.94 - ETA: 1s - loss: 0.1372 - accuracy: 0.94 - ETA: 1s - loss: 0.1365 - accuracy: 0.94 - ETA: 1s - loss: 0.1360 - accuracy: 0.94 - ETA: 0s - loss: 0.1377 - accuracy: 0.94 - ETA: 0s - loss: 0.1380 - accuracy: 0.94 - ETA: 0s - loss: 0.1365 - accuracy: 0.94 - ETA: 0s - loss: 0.1363 - accuracy: 0.94 - ETA: 0s - loss: 0.1359 - accuracy: 0.94 - ETA: 0s - loss: 0.1342 - accuracy: 0.94 - ETA: 0s - loss: 0.1342 - accuracy: 0.94 - ETA: 0s - loss: 0.1340 - accuracy: 0.94 - ETA: 0s - loss: 0.1331 - accuracy: 0.94 - ETA: 0s - loss: 0.1325 - accuracy: 0.94 - ETA: 0s - loss: 0.1321 - accuracy: 0.94 - ETA: 0s - loss: 0.1348 - accuracy: 0.94 - ETA: 0s - loss: 0.1353 - accuracy: 0.94 - 5s 46ms/step - loss: 0.1353 - accuracy: 0.9479 - val_loss: 0.1446 - val_accuracy: 0.9404\n",
      "Epoch 13/30\n"
     ]
    },
    {
     "name": "stdout",
     "output_type": "stream",
     "text": [
      "103/103 [==============================] - ETA: 0s - loss: 0.1590 - accuracy: 0.93 - ETA: 2s - loss: 0.1364 - accuracy: 0.95 - ETA: 3s - loss: 0.1551 - accuracy: 0.95 - ETA: 3s - loss: 0.1408 - accuracy: 0.95 - ETA: 3s - loss: 0.1328 - accuracy: 0.95 - ETA: 3s - loss: 0.1313 - accuracy: 0.95 - ETA: 3s - loss: 0.1271 - accuracy: 0.95 - ETA: 3s - loss: 0.1237 - accuracy: 0.96 - ETA: 3s - loss: 0.1212 - accuracy: 0.95 - ETA: 3s - loss: 0.1373 - accuracy: 0.95 - ETA: 3s - loss: 0.1374 - accuracy: 0.94 - ETA: 3s - loss: 0.1324 - accuracy: 0.95 - ETA: 3s - loss: 0.1325 - accuracy: 0.95 - ETA: 3s - loss: 0.1294 - accuracy: 0.95 - ETA: 3s - loss: 0.1296 - accuracy: 0.95 - ETA: 3s - loss: 0.1264 - accuracy: 0.95 - ETA: 3s - loss: 0.1360 - accuracy: 0.95 - ETA: 3s - loss: 0.1334 - accuracy: 0.95 - ETA: 3s - loss: 0.1317 - accuracy: 0.95 - ETA: 3s - loss: 0.1282 - accuracy: 0.95 - ETA: 3s - loss: 0.1272 - accuracy: 0.95 - ETA: 3s - loss: 0.1260 - accuracy: 0.95 - ETA: 3s - loss: 0.1259 - accuracy: 0.95 - ETA: 2s - loss: 0.1270 - accuracy: 0.95 - ETA: 2s - loss: 0.1253 - accuracy: 0.95 - ETA: 2s - loss: 0.1230 - accuracy: 0.95 - ETA: 2s - loss: 0.1215 - accuracy: 0.95 - ETA: 2s - loss: 0.1211 - accuracy: 0.95 - ETA: 2s - loss: 0.1214 - accuracy: 0.95 - ETA: 2s - loss: 0.1222 - accuracy: 0.95 - ETA: 2s - loss: 0.1242 - accuracy: 0.95 - ETA: 2s - loss: 0.1239 - accuracy: 0.95 - ETA: 2s - loss: 0.1218 - accuracy: 0.95 - ETA: 2s - loss: 0.1198 - accuracy: 0.95 - ETA: 2s - loss: 0.1215 - accuracy: 0.95 - ETA: 2s - loss: 0.1220 - accuracy: 0.95 - ETA: 2s - loss: 0.1231 - accuracy: 0.95 - ETA: 1s - loss: 0.1212 - accuracy: 0.95 - ETA: 1s - loss: 0.1220 - accuracy: 0.95 - ETA: 1s - loss: 0.1208 - accuracy: 0.95 - ETA: 1s - loss: 0.1208 - accuracy: 0.95 - ETA: 1s - loss: 0.1224 - accuracy: 0.95 - ETA: 1s - loss: 0.1219 - accuracy: 0.95 - ETA: 1s - loss: 0.1213 - accuracy: 0.95 - ETA: 1s - loss: 0.1285 - accuracy: 0.95 - ETA: 1s - loss: 0.1268 - accuracy: 0.95 - ETA: 1s - loss: 0.1271 - accuracy: 0.95 - ETA: 1s - loss: 0.1259 - accuracy: 0.95 - ETA: 1s - loss: 0.1261 - accuracy: 0.95 - ETA: 1s - loss: 0.1248 - accuracy: 0.95 - ETA: 0s - loss: 0.1249 - accuracy: 0.95 - ETA: 0s - loss: 0.1240 - accuracy: 0.95 - ETA: 0s - loss: 0.1273 - accuracy: 0.95 - ETA: 0s - loss: 0.1283 - accuracy: 0.95 - ETA: 0s - loss: 0.1274 - accuracy: 0.95 - ETA: 0s - loss: 0.1275 - accuracy: 0.95 - ETA: 0s - loss: 0.1306 - accuracy: 0.95 - ETA: 0s - loss: 0.1311 - accuracy: 0.95 - ETA: 0s - loss: 0.1324 - accuracy: 0.95 - ETA: 0s - loss: 0.1325 - accuracy: 0.95 - ETA: 0s - loss: 0.1342 - accuracy: 0.95 - ETA: 0s - loss: 0.1347 - accuracy: 0.94 - ETA: 0s - loss: 0.1344 - accuracy: 0.94 - ETA: 0s - loss: 0.1329 - accuracy: 0.95 - 5s 47ms/step - loss: 0.1332 - accuracy: 0.9504 - val_loss: 0.1395 - val_accuracy: 0.9440\n",
      "Epoch 14/30\n",
      "103/103 [==============================] - ETA: 0s - loss: 0.0758 - accuracy: 0.96 - ETA: 2s - loss: 0.0820 - accuracy: 0.97 - ETA: 3s - loss: 0.1069 - accuracy: 0.96 - ETA: 3s - loss: 0.0981 - accuracy: 0.96 - ETA: 3s - loss: 0.1096 - accuracy: 0.95 - ETA: 3s - loss: 0.1072 - accuracy: 0.96 - ETA: 3s - loss: 0.1020 - accuracy: 0.96 - ETA: 3s - loss: 0.0973 - accuracy: 0.96 - ETA: 3s - loss: 0.1074 - accuracy: 0.96 - ETA: 3s - loss: 0.1048 - accuracy: 0.96 - ETA: 3s - loss: 0.1067 - accuracy: 0.96 - ETA: 3s - loss: 0.1059 - accuracy: 0.96 - ETA: 3s - loss: 0.1119 - accuracy: 0.96 - ETA: 3s - loss: 0.1088 - accuracy: 0.96 - ETA: 3s - loss: 0.1049 - accuracy: 0.96 - ETA: 3s - loss: 0.1072 - accuracy: 0.96 - ETA: 3s - loss: 0.1058 - accuracy: 0.96 - ETA: 3s - loss: 0.1086 - accuracy: 0.96 - ETA: 3s - loss: 0.1083 - accuracy: 0.96 - ETA: 2s - loss: 0.1082 - accuracy: 0.96 - ETA: 2s - loss: 0.1078 - accuracy: 0.96 - ETA: 2s - loss: 0.1057 - accuracy: 0.96 - ETA: 2s - loss: 0.1055 - accuracy: 0.96 - ETA: 2s - loss: 0.1090 - accuracy: 0.96 - ETA: 2s - loss: 0.1100 - accuracy: 0.96 - ETA: 2s - loss: 0.1106 - accuracy: 0.96 - ETA: 2s - loss: 0.1097 - accuracy: 0.96 - ETA: 2s - loss: 0.1091 - accuracy: 0.96 - ETA: 2s - loss: 0.1083 - accuracy: 0.96 - ETA: 2s - loss: 0.1113 - accuracy: 0.96 - ETA: 2s - loss: 0.1104 - accuracy: 0.96 - ETA: 2s - loss: 0.1131 - accuracy: 0.96 - ETA: 1s - loss: 0.1127 - accuracy: 0.96 - ETA: 1s - loss: 0.1106 - accuracy: 0.96 - ETA: 1s - loss: 0.1110 - accuracy: 0.96 - ETA: 1s - loss: 0.1105 - accuracy: 0.96 - ETA: 1s - loss: 0.1100 - accuracy: 0.96 - ETA: 1s - loss: 0.1151 - accuracy: 0.96 - ETA: 1s - loss: 0.1168 - accuracy: 0.96 - ETA: 1s - loss: 0.1206 - accuracy: 0.96 - ETA: 1s - loss: 0.1210 - accuracy: 0.95 - ETA: 1s - loss: 0.1217 - accuracy: 0.95 - ETA: 1s - loss: 0.1215 - accuracy: 0.95 - ETA: 1s - loss: 0.1215 - accuracy: 0.95 - ETA: 1s - loss: 0.1231 - accuracy: 0.95 - ETA: 0s - loss: 0.1230 - accuracy: 0.95 - ETA: 0s - loss: 0.1227 - accuracy: 0.95 - ETA: 0s - loss: 0.1218 - accuracy: 0.95 - ETA: 0s - loss: 0.1219 - accuracy: 0.95 - ETA: 0s - loss: 0.1221 - accuracy: 0.95 - ETA: 0s - loss: 0.1215 - accuracy: 0.95 - ETA: 0s - loss: 0.1206 - accuracy: 0.95 - ETA: 0s - loss: 0.1200 - accuracy: 0.95 - ETA: 0s - loss: 0.1199 - accuracy: 0.95 - ETA: 0s - loss: 0.1191 - accuracy: 0.95 - ETA: 0s - loss: 0.1186 - accuracy: 0.95 - ETA: 0s - loss: 0.1195 - accuracy: 0.95 - ETA: 0s - loss: 0.1188 - accuracy: 0.95 - 5s 46ms/step - loss: 0.1185 - accuracy: 0.9598 - val_loss: 0.1278 - val_accuracy: 0.9489\n",
      "Epoch 15/30\n",
      "103/103 [==============================] - ETA: 0s - loss: 0.0503 - accuracy: 1.00 - ETA: 2s - loss: 0.0852 - accuracy: 0.97 - ETA: 3s - loss: 0.0926 - accuracy: 0.97 - ETA: 3s - loss: 0.0880 - accuracy: 0.97 - ETA: 3s - loss: 0.0796 - accuracy: 0.97 - ETA: 3s - loss: 0.0817 - accuracy: 0.97 - ETA: 3s - loss: 0.1024 - accuracy: 0.96 - ETA: 3s - loss: 0.1125 - accuracy: 0.96 - ETA: 3s - loss: 0.1148 - accuracy: 0.96 - ETA: 3s - loss: 0.1181 - accuracy: 0.95 - ETA: 3s - loss: 0.1186 - accuracy: 0.95 - ETA: 3s - loss: 0.1247 - accuracy: 0.95 - ETA: 3s - loss: 0.1242 - accuracy: 0.95 - ETA: 3s - loss: 0.1201 - accuracy: 0.95 - ETA: 3s - loss: 0.1205 - accuracy: 0.95 - ETA: 3s - loss: 0.1169 - accuracy: 0.95 - ETA: 3s - loss: 0.1198 - accuracy: 0.95 - ETA: 3s - loss: 0.1198 - accuracy: 0.95 - ETA: 3s - loss: 0.1210 - accuracy: 0.95 - ETA: 3s - loss: 0.1189 - accuracy: 0.95 - ETA: 3s - loss: 0.1175 - accuracy: 0.95 - ETA: 3s - loss: 0.1159 - accuracy: 0.95 - ETA: 3s - loss: 0.1156 - accuracy: 0.95 - ETA: 2s - loss: 0.1149 - accuracy: 0.95 - ETA: 2s - loss: 0.1148 - accuracy: 0.96 - ETA: 2s - loss: 0.1139 - accuracy: 0.96 - ETA: 2s - loss: 0.1137 - accuracy: 0.96 - ETA: 2s - loss: 0.1145 - accuracy: 0.96 - ETA: 2s - loss: 0.1139 - accuracy: 0.96 - ETA: 2s - loss: 0.1143 - accuracy: 0.96 - ETA: 2s - loss: 0.1163 - accuracy: 0.96 - ETA: 2s - loss: 0.1146 - accuracy: 0.96 - ETA: 2s - loss: 0.1168 - accuracy: 0.95 - ETA: 2s - loss: 0.1188 - accuracy: 0.95 - ETA: 2s - loss: 0.1198 - accuracy: 0.95 - ETA: 2s - loss: 0.1206 - accuracy: 0.95 - ETA: 2s - loss: 0.1211 - accuracy: 0.95 - ETA: 2s - loss: 0.1203 - accuracy: 0.95 - ETA: 1s - loss: 0.1187 - accuracy: 0.95 - ETA: 1s - loss: 0.1178 - accuracy: 0.95 - ETA: 1s - loss: 0.1176 - accuracy: 0.95 - ETA: 1s - loss: 0.1175 - accuracy: 0.95 - ETA: 1s - loss: 0.1172 - accuracy: 0.95 - ETA: 1s - loss: 0.1150 - accuracy: 0.95 - ETA: 1s - loss: 0.1142 - accuracy: 0.95 - ETA: 1s - loss: 0.1141 - accuracy: 0.95 - ETA: 1s - loss: 0.1179 - accuracy: 0.95 - ETA: 1s - loss: 0.1175 - accuracy: 0.95 - ETA: 1s - loss: 0.1181 - accuracy: 0.95 - ETA: 1s - loss: 0.1160 - accuracy: 0.95 - ETA: 1s - loss: 0.1151 - accuracy: 0.95 - ETA: 0s - loss: 0.1129 - accuracy: 0.95 - ETA: 0s - loss: 0.1127 - accuracy: 0.95 - ETA: 0s - loss: 0.1171 - accuracy: 0.95 - ETA: 0s - loss: 0.1160 - accuracy: 0.95 - ETA: 0s - loss: 0.1142 - accuracy: 0.95 - ETA: 0s - loss: 0.1132 - accuracy: 0.96 - ETA: 0s - loss: 0.1133 - accuracy: 0.95 - ETA: 0s - loss: 0.1148 - accuracy: 0.95 - ETA: 0s - loss: 0.1144 - accuracy: 0.95 - ETA: 0s - loss: 0.1144 - accuracy: 0.95 - ETA: 0s - loss: 0.1138 - accuracy: 0.95 - ETA: 0s - loss: 0.1138 - accuracy: 0.95 - ETA: 0s - loss: 0.1138 - accuracy: 0.95 - ETA: 0s - loss: 0.1133 - accuracy: 0.95 - 5s 49ms/step - loss: 0.1128 - accuracy: 0.9598 - val_loss: 0.1203 - val_accuracy: 0.9526\n"
     ]
    },
    {
     "name": "stdout",
     "output_type": "stream",
     "text": [
      "Epoch 16/30\n",
      "103/103 [==============================] - ETA: 0s - loss: 0.0892 - accuracy: 1.00 - ETA: 2s - loss: 0.1028 - accuracy: 0.97 - ETA: 3s - loss: 0.1237 - accuracy: 0.96 - ETA: 3s - loss: 0.1175 - accuracy: 0.96 - ETA: 3s - loss: 0.1021 - accuracy: 0.96 - ETA: 3s - loss: 0.1189 - accuracy: 0.96 - ETA: 4s - loss: 0.1224 - accuracy: 0.95 - ETA: 3s - loss: 0.1244 - accuracy: 0.96 - ETA: 3s - loss: 0.1126 - accuracy: 0.96 - ETA: 3s - loss: 0.1064 - accuracy: 0.96 - ETA: 3s - loss: 0.1120 - accuracy: 0.96 - ETA: 3s - loss: 0.1103 - accuracy: 0.96 - ETA: 3s - loss: 0.1077 - accuracy: 0.96 - ETA: 3s - loss: 0.1170 - accuracy: 0.96 - ETA: 3s - loss: 0.1145 - accuracy: 0.96 - ETA: 3s - loss: 0.1136 - accuracy: 0.96 - ETA: 3s - loss: 0.1143 - accuracy: 0.96 - ETA: 3s - loss: 0.1183 - accuracy: 0.95 - ETA: 3s - loss: 0.1158 - accuracy: 0.96 - ETA: 3s - loss: 0.1134 - accuracy: 0.96 - ETA: 3s - loss: 0.1167 - accuracy: 0.96 - ETA: 3s - loss: 0.1197 - accuracy: 0.96 - ETA: 3s - loss: 0.1193 - accuracy: 0.96 - ETA: 3s - loss: 0.1242 - accuracy: 0.95 - ETA: 2s - loss: 0.1265 - accuracy: 0.95 - ETA: 2s - loss: 0.1243 - accuracy: 0.95 - ETA: 2s - loss: 0.1287 - accuracy: 0.95 - ETA: 2s - loss: 0.1275 - accuracy: 0.96 - ETA: 2s - loss: 0.1272 - accuracy: 0.95 - ETA: 2s - loss: 0.1249 - accuracy: 0.95 - ETA: 2s - loss: 0.1246 - accuracy: 0.96 - ETA: 2s - loss: 0.1239 - accuracy: 0.95 - ETA: 2s - loss: 0.1231 - accuracy: 0.95 - ETA: 2s - loss: 0.1225 - accuracy: 0.95 - ETA: 2s - loss: 0.1204 - accuracy: 0.96 - ETA: 2s - loss: 0.1207 - accuracy: 0.96 - ETA: 2s - loss: 0.1220 - accuracy: 0.95 - ETA: 2s - loss: 0.1210 - accuracy: 0.95 - ETA: 1s - loss: 0.1202 - accuracy: 0.95 - ETA: 1s - loss: 0.1186 - accuracy: 0.96 - ETA: 1s - loss: 0.1180 - accuracy: 0.96 - ETA: 1s - loss: 0.1171 - accuracy: 0.96 - ETA: 1s - loss: 0.1160 - accuracy: 0.96 - ETA: 1s - loss: 0.1146 - accuracy: 0.96 - ETA: 1s - loss: 0.1129 - accuracy: 0.96 - ETA: 1s - loss: 0.1137 - accuracy: 0.96 - ETA: 1s - loss: 0.1118 - accuracy: 0.96 - ETA: 1s - loss: 0.1112 - accuracy: 0.96 - ETA: 1s - loss: 0.1100 - accuracy: 0.96 - ETA: 1s - loss: 0.1095 - accuracy: 0.96 - ETA: 1s - loss: 0.1098 - accuracy: 0.96 - ETA: 1s - loss: 0.1100 - accuracy: 0.96 - ETA: 1s - loss: 0.1097 - accuracy: 0.96 - ETA: 0s - loss: 0.1101 - accuracy: 0.96 - ETA: 0s - loss: 0.1110 - accuracy: 0.96 - ETA: 0s - loss: 0.1117 - accuracy: 0.96 - ETA: 0s - loss: 0.1110 - accuracy: 0.96 - ETA: 0s - loss: 0.1111 - accuracy: 0.96 - ETA: 0s - loss: 0.1115 - accuracy: 0.96 - ETA: 0s - loss: 0.1118 - accuracy: 0.96 - ETA: 0s - loss: 0.1109 - accuracy: 0.96 - ETA: 0s - loss: 0.1101 - accuracy: 0.96 - ETA: 0s - loss: 0.1096 - accuracy: 0.96 - ETA: 0s - loss: 0.1082 - accuracy: 0.96 - ETA: 0s - loss: 0.1090 - accuracy: 0.96 - ETA: 0s - loss: 0.1103 - accuracy: 0.96 - ETA: 0s - loss: 0.1104 - accuracy: 0.96 - 5s 48ms/step - loss: 0.1104 - accuracy: 0.9613 - val_loss: 0.1305 - val_accuracy: 0.9453\n",
      "Epoch 17/30\n",
      "103/103 [==============================] - ETA: 0s - loss: 0.0783 - accuracy: 0.93 - ETA: 2s - loss: 0.1087 - accuracy: 0.95 - ETA: 3s - loss: 0.1007 - accuracy: 0.96 - ETA: 3s - loss: 0.0921 - accuracy: 0.96 - ETA: 3s - loss: 0.0981 - accuracy: 0.96 - ETA: 3s - loss: 0.1034 - accuracy: 0.96 - ETA: 4s - loss: 0.0981 - accuracy: 0.96 - ETA: 4s - loss: 0.1043 - accuracy: 0.96 - ETA: 3s - loss: 0.1021 - accuracy: 0.96 - ETA: 3s - loss: 0.1015 - accuracy: 0.96 - ETA: 3s - loss: 0.1041 - accuracy: 0.95 - ETA: 3s - loss: 0.0997 - accuracy: 0.96 - ETA: 3s - loss: 0.1011 - accuracy: 0.96 - ETA: 3s - loss: 0.0991 - accuracy: 0.96 - ETA: 3s - loss: 0.0965 - accuracy: 0.96 - ETA: 3s - loss: 0.0945 - accuracy: 0.96 - ETA: 3s - loss: 0.0964 - accuracy: 0.96 - ETA: 3s - loss: 0.0968 - accuracy: 0.96 - ETA: 3s - loss: 0.0985 - accuracy: 0.96 - ETA: 3s - loss: 0.0969 - accuracy: 0.96 - ETA: 3s - loss: 0.1026 - accuracy: 0.96 - ETA: 3s - loss: 0.1014 - accuracy: 0.96 - ETA: 2s - loss: 0.1007 - accuracy: 0.96 - ETA: 2s - loss: 0.1015 - accuracy: 0.96 - ETA: 2s - loss: 0.1000 - accuracy: 0.96 - ETA: 2s - loss: 0.0993 - accuracy: 0.96 - ETA: 2s - loss: 0.0996 - accuracy: 0.96 - ETA: 2s - loss: 0.0992 - accuracy: 0.96 - ETA: 2s - loss: 0.0989 - accuracy: 0.96 - ETA: 2s - loss: 0.0973 - accuracy: 0.96 - ETA: 2s - loss: 0.0957 - accuracy: 0.96 - ETA: 2s - loss: 0.0955 - accuracy: 0.96 - ETA: 2s - loss: 0.0953 - accuracy: 0.96 - ETA: 2s - loss: 0.0964 - accuracy: 0.96 - ETA: 2s - loss: 0.0956 - accuracy: 0.96 - ETA: 1s - loss: 0.0945 - accuracy: 0.96 - ETA: 1s - loss: 0.0973 - accuracy: 0.96 - ETA: 1s - loss: 0.0982 - accuracy: 0.96 - ETA: 1s - loss: 0.0981 - accuracy: 0.96 - ETA: 1s - loss: 0.0986 - accuracy: 0.96 - ETA: 1s - loss: 0.0977 - accuracy: 0.96 - ETA: 1s - loss: 0.0992 - accuracy: 0.96 - ETA: 1s - loss: 0.1000 - accuracy: 0.96 - ETA: 1s - loss: 0.0987 - accuracy: 0.96 - ETA: 1s - loss: 0.0982 - accuracy: 0.96 - ETA: 1s - loss: 0.0993 - accuracy: 0.96 - ETA: 1s - loss: 0.1017 - accuracy: 0.96 - ETA: 1s - loss: 0.1033 - accuracy: 0.96 - ETA: 0s - loss: 0.1024 - accuracy: 0.96 - ETA: 0s - loss: 0.1018 - accuracy: 0.96 - ETA: 0s - loss: 0.1029 - accuracy: 0.96 - ETA: 0s - loss: 0.1037 - accuracy: 0.96 - ETA: 0s - loss: 0.1039 - accuracy: 0.96 - ETA: 0s - loss: 0.1036 - accuracy: 0.96 - ETA: 0s - loss: 0.1026 - accuracy: 0.96 - ETA: 0s - loss: 0.1026 - accuracy: 0.96 - ETA: 0s - loss: 0.1020 - accuracy: 0.96 - ETA: 0s - loss: 0.1017 - accuracy: 0.96 - ETA: 0s - loss: 0.1016 - accuracy: 0.96 - ETA: 0s - loss: 0.1023 - accuracy: 0.96 - ETA: 0s - loss: 0.1034 - accuracy: 0.96 - ETA: 0s - loss: 0.1042 - accuracy: 0.96 - ETA: 0s - loss: 0.1044 - accuracy: 0.96 - 5s 47ms/step - loss: 0.1039 - accuracy: 0.9619 - val_loss: 0.1274 - val_accuracy: 0.9453\n",
      "Epoch 18/30\n"
     ]
    },
    {
     "name": "stdout",
     "output_type": "stream",
     "text": [
      "103/103 [==============================] - ETA: 0s - loss: 0.0721 - accuracy: 0.96 - ETA: 2s - loss: 0.0446 - accuracy: 0.98 - ETA: 3s - loss: 0.1288 - accuracy: 0.93 - ETA: 3s - loss: 0.1262 - accuracy: 0.94 - ETA: 3s - loss: 0.1042 - accuracy: 0.95 - ETA: 3s - loss: 0.1021 - accuracy: 0.95 - ETA: 3s - loss: 0.1022 - accuracy: 0.95 - ETA: 3s - loss: 0.1039 - accuracy: 0.95 - ETA: 3s - loss: 0.1032 - accuracy: 0.95 - ETA: 4s - loss: 0.1048 - accuracy: 0.95 - ETA: 3s - loss: 0.1031 - accuracy: 0.95 - ETA: 3s - loss: 0.1017 - accuracy: 0.96 - ETA: 3s - loss: 0.0996 - accuracy: 0.96 - ETA: 3s - loss: 0.0979 - accuracy: 0.96 - ETA: 3s - loss: 0.0980 - accuracy: 0.96 - ETA: 3s - loss: 0.1026 - accuracy: 0.96 - ETA: 3s - loss: 0.1047 - accuracy: 0.95 - ETA: 3s - loss: 0.1022 - accuracy: 0.95 - ETA: 3s - loss: 0.1028 - accuracy: 0.95 - ETA: 3s - loss: 0.1046 - accuracy: 0.95 - ETA: 3s - loss: 0.1044 - accuracy: 0.95 - ETA: 2s - loss: 0.1012 - accuracy: 0.95 - ETA: 2s - loss: 0.0980 - accuracy: 0.96 - ETA: 2s - loss: 0.0949 - accuracy: 0.96 - ETA: 2s - loss: 0.0933 - accuracy: 0.96 - ETA: 2s - loss: 0.0954 - accuracy: 0.96 - ETA: 2s - loss: 0.0963 - accuracy: 0.96 - ETA: 2s - loss: 0.0950 - accuracy: 0.96 - ETA: 2s - loss: 0.0934 - accuracy: 0.96 - ETA: 2s - loss: 0.0938 - accuracy: 0.96 - ETA: 2s - loss: 0.0935 - accuracy: 0.96 - ETA: 2s - loss: 0.0933 - accuracy: 0.96 - ETA: 2s - loss: 0.0920 - accuracy: 0.96 - ETA: 2s - loss: 0.0913 - accuracy: 0.96 - ETA: 1s - loss: 0.0916 - accuracy: 0.96 - ETA: 1s - loss: 0.0906 - accuracy: 0.96 - ETA: 1s - loss: 0.0924 - accuracy: 0.96 - ETA: 1s - loss: 0.0918 - accuracy: 0.96 - ETA: 1s - loss: 0.0922 - accuracy: 0.96 - ETA: 1s - loss: 0.0912 - accuracy: 0.96 - ETA: 1s - loss: 0.0967 - accuracy: 0.96 - ETA: 1s - loss: 0.0957 - accuracy: 0.96 - ETA: 1s - loss: 0.0964 - accuracy: 0.96 - ETA: 1s - loss: 0.0951 - accuracy: 0.96 - ETA: 1s - loss: 0.0947 - accuracy: 0.96 - ETA: 1s - loss: 0.0972 - accuracy: 0.96 - ETA: 1s - loss: 0.0983 - accuracy: 0.96 - ETA: 0s - loss: 0.0987 - accuracy: 0.96 - ETA: 0s - loss: 0.0982 - accuracy: 0.96 - ETA: 0s - loss: 0.0990 - accuracy: 0.96 - ETA: 0s - loss: 0.1003 - accuracy: 0.96 - ETA: 0s - loss: 0.1003 - accuracy: 0.96 - ETA: 0s - loss: 0.1010 - accuracy: 0.96 - ETA: 0s - loss: 0.1015 - accuracy: 0.96 - ETA: 0s - loss: 0.1039 - accuracy: 0.95 - ETA: 0s - loss: 0.1035 - accuracy: 0.95 - ETA: 0s - loss: 0.1029 - accuracy: 0.96 - ETA: 0s - loss: 0.1033 - accuracy: 0.95 - ETA: 0s - loss: 0.1032 - accuracy: 0.95 - ETA: 0s - loss: 0.1056 - accuracy: 0.95 - 5s 44ms/step - loss: 0.1054 - accuracy: 0.9586 - val_loss: 0.1061 - val_accuracy: 0.9550\n",
      "Epoch 19/30\n",
      "103/103 [==============================] - ETA: 0s - loss: 0.0448 - accuracy: 1.00 - ETA: 2s - loss: 0.0476 - accuracy: 0.98 - ETA: 2s - loss: 0.0562 - accuracy: 0.98 - ETA: 3s - loss: 0.0642 - accuracy: 0.97 - ETA: 3s - loss: 0.0682 - accuracy: 0.97 - ETA: 3s - loss: 0.0809 - accuracy: 0.96 - ETA: 3s - loss: 0.0975 - accuracy: 0.96 - ETA: 3s - loss: 0.0943 - accuracy: 0.96 - ETA: 3s - loss: 0.0978 - accuracy: 0.96 - ETA: 3s - loss: 0.0956 - accuracy: 0.96 - ETA: 3s - loss: 0.1019 - accuracy: 0.96 - ETA: 3s - loss: 0.0983 - accuracy: 0.96 - ETA: 3s - loss: 0.0974 - accuracy: 0.96 - ETA: 2s - loss: 0.0933 - accuracy: 0.96 - ETA: 2s - loss: 0.0909 - accuracy: 0.96 - ETA: 2s - loss: 0.0933 - accuracy: 0.96 - ETA: 2s - loss: 0.0920 - accuracy: 0.96 - ETA: 2s - loss: 0.0904 - accuracy: 0.96 - ETA: 2s - loss: 0.0888 - accuracy: 0.96 - ETA: 2s - loss: 0.0904 - accuracy: 0.96 - ETA: 2s - loss: 0.0903 - accuracy: 0.96 - ETA: 2s - loss: 0.0904 - accuracy: 0.96 - ETA: 2s - loss: 0.0968 - accuracy: 0.96 - ETA: 2s - loss: 0.0993 - accuracy: 0.96 - ETA: 2s - loss: 0.0982 - accuracy: 0.96 - ETA: 2s - loss: 0.0973 - accuracy: 0.96 - ETA: 2s - loss: 0.0955 - accuracy: 0.96 - ETA: 2s - loss: 0.0954 - accuracy: 0.96 - ETA: 2s - loss: 0.0950 - accuracy: 0.96 - ETA: 2s - loss: 0.0933 - accuracy: 0.96 - ETA: 2s - loss: 0.0922 - accuracy: 0.96 - ETA: 2s - loss: 0.0913 - accuracy: 0.97 - ETA: 1s - loss: 0.0891 - accuracy: 0.97 - ETA: 1s - loss: 0.0896 - accuracy: 0.97 - ETA: 1s - loss: 0.0893 - accuracy: 0.97 - ETA: 1s - loss: 0.0893 - accuracy: 0.97 - ETA: 1s - loss: 0.0899 - accuracy: 0.97 - ETA: 1s - loss: 0.0897 - accuracy: 0.97 - ETA: 1s - loss: 0.0899 - accuracy: 0.97 - ETA: 1s - loss: 0.0894 - accuracy: 0.97 - ETA: 1s - loss: 0.0903 - accuracy: 0.97 - ETA: 1s - loss: 0.0906 - accuracy: 0.96 - ETA: 1s - loss: 0.0913 - accuracy: 0.96 - ETA: 1s - loss: 0.0911 - accuracy: 0.96 - ETA: 1s - loss: 0.0901 - accuracy: 0.96 - ETA: 1s - loss: 0.0906 - accuracy: 0.96 - ETA: 1s - loss: 0.0902 - accuracy: 0.96 - ETA: 0s - loss: 0.0910 - accuracy: 0.96 - ETA: 0s - loss: 0.0906 - accuracy: 0.96 - ETA: 0s - loss: 0.0900 - accuracy: 0.96 - ETA: 0s - loss: 0.0895 - accuracy: 0.96 - ETA: 0s - loss: 0.0900 - accuracy: 0.96 - ETA: 0s - loss: 0.0899 - accuracy: 0.96 - ETA: 0s - loss: 0.0886 - accuracy: 0.96 - ETA: 0s - loss: 0.0914 - accuracy: 0.96 - ETA: 0s - loss: 0.0929 - accuracy: 0.96 - ETA: 0s - loss: 0.0917 - accuracy: 0.96 - ETA: 0s - loss: 0.0908 - accuracy: 0.96 - ETA: 0s - loss: 0.0908 - accuracy: 0.96 - ETA: 0s - loss: 0.0913 - accuracy: 0.96 - 4s 41ms/step - loss: 0.0909 - accuracy: 0.9671 - val_loss: 0.1152 - val_accuracy: 0.9513\n",
      "Epoch 20/30\n",
      "103/103 [==============================] - ETA: 0s - loss: 0.1964 - accuracy: 0.96 - ETA: 2s - loss: 0.1303 - accuracy: 0.95 - ETA: 2s - loss: 0.0941 - accuracy: 0.96 - ETA: 3s - loss: 0.0907 - accuracy: 0.97 - ETA: 3s - loss: 0.1118 - accuracy: 0.95 - ETA: 3s - loss: 0.1094 - accuracy: 0.95 - ETA: 3s - loss: 0.1181 - accuracy: 0.95 - ETA: 3s - loss: 0.1474 - accuracy: 0.94 - ETA: 3s - loss: 0.1385 - accuracy: 0.94 - ETA: 3s - loss: 0.1286 - accuracy: 0.95 - ETA: 3s - loss: 0.1233 - accuracy: 0.95 - ETA: 3s - loss: 0.1156 - accuracy: 0.95 - ETA: 3s - loss: 0.1087 - accuracy: 0.95 - ETA: 2s - loss: 0.1103 - accuracy: 0.95 - ETA: 2s - loss: 0.1097 - accuracy: 0.95 - ETA: 2s - loss: 0.1089 - accuracy: 0.95 - ETA: 2s - loss: 0.1071 - accuracy: 0.95 - ETA: 2s - loss: 0.1037 - accuracy: 0.95 - ETA: 2s - loss: 0.1018 - accuracy: 0.96 - ETA: 2s - loss: 0.1000 - accuracy: 0.96 - ETA: 2s - loss: 0.0983 - accuracy: 0.96 - ETA: 2s - loss: 0.0993 - accuracy: 0.96 - ETA: 2s - loss: 0.0982 - accuracy: 0.96 - ETA: 2s - loss: 0.0972 - accuracy: 0.96 - ETA: 2s - loss: 0.0963 - accuracy: 0.96 - ETA: 2s - loss: 0.0975 - accuracy: 0.96 - ETA: 2s - loss: 0.0972 - accuracy: 0.96 - ETA: 2s - loss: 0.1026 - accuracy: 0.96 - ETA: 2s - loss: 0.1012 - accuracy: 0.96 - ETA: 1s - loss: 0.1019 - accuracy: 0.96 - ETA: 1s - loss: 0.1017 - accuracy: 0.96 - ETA: 1s - loss: 0.0998 - accuracy: 0.96 - ETA: 1s - loss: 0.0984 - accuracy: 0.96 - ETA: 1s - loss: 0.0975 - accuracy: 0.96 - ETA: 1s - loss: 0.0952 - accuracy: 0.96 - ETA: 1s - loss: 0.0950 - accuracy: 0.96 - ETA: 1s - loss: 0.0957 - accuracy: 0.96 - ETA: 1s - loss: 0.0963 - accuracy: 0.96 - ETA: 1s - loss: 0.0968 - accuracy: 0.96 - ETA: 1s - loss: 0.0954 - accuracy: 0.96 - ETA: 1s - loss: 0.0960 - accuracy: 0.96 - ETA: 1s - loss: 0.0954 - accuracy: 0.96 - ETA: 1s - loss: 0.0948 - accuracy: 0.96 - ETA: 1s - loss: 0.0952 - accuracy: 0.96 - ETA: 1s - loss: 0.0938 - accuracy: 0.96 - ETA: 0s - loss: 0.0927 - accuracy: 0.96 - ETA: 0s - loss: 0.0931 - accuracy: 0.96 - ETA: 0s - loss: 0.0944 - accuracy: 0.96 - ETA: 0s - loss: 0.0951 - accuracy: 0.96 - ETA: 0s - loss: 0.0959 - accuracy: 0.96 - ETA: 0s - loss: 0.0955 - accuracy: 0.96 - ETA: 0s - loss: 0.0946 - accuracy: 0.96 - ETA: 0s - loss: 0.0944 - accuracy: 0.96 - ETA: 0s - loss: 0.0937 - accuracy: 0.96 - ETA: 0s - loss: 0.0937 - accuracy: 0.96 - ETA: 0s - loss: 0.0941 - accuracy: 0.96 - ETA: 0s - loss: 0.0940 - accuracy: 0.96 - ETA: 0s - loss: 0.0946 - accuracy: 0.96 - ETA: 0s - loss: 0.0940 - accuracy: 0.96 - ETA: 0s - loss: 0.0935 - accuracy: 0.96 - 4s 41ms/step - loss: 0.0933 - accuracy: 0.9659 - val_loss: 0.1147 - val_accuracy: 0.9513\n",
      "Epoch 21/30\n"
     ]
    },
    {
     "name": "stdout",
     "output_type": "stream",
     "text": [
      "103/103 [==============================] - ETA: 0s - loss: 0.0868 - accuracy: 0.96 - ETA: 2s - loss: 0.0783 - accuracy: 0.96 - ETA: 3s - loss: 0.0742 - accuracy: 0.97 - ETA: 3s - loss: 0.0807 - accuracy: 0.97 - ETA: 3s - loss: 0.0800 - accuracy: 0.97 - ETA: 3s - loss: 0.0781 - accuracy: 0.97 - ETA: 3s - loss: 0.0731 - accuracy: 0.97 - ETA: 3s - loss: 0.0696 - accuracy: 0.97 - ETA: 3s - loss: 0.0692 - accuracy: 0.97 - ETA: 3s - loss: 0.0760 - accuracy: 0.96 - ETA: 3s - loss: 0.0766 - accuracy: 0.96 - ETA: 3s - loss: 0.0764 - accuracy: 0.96 - ETA: 3s - loss: 0.0842 - accuracy: 0.96 - ETA: 3s - loss: 0.0833 - accuracy: 0.96 - ETA: 2s - loss: 0.0861 - accuracy: 0.96 - ETA: 2s - loss: 0.0847 - accuracy: 0.96 - ETA: 2s - loss: 0.0812 - accuracy: 0.96 - ETA: 2s - loss: 0.0788 - accuracy: 0.96 - ETA: 2s - loss: 0.0789 - accuracy: 0.96 - ETA: 2s - loss: 0.0812 - accuracy: 0.96 - ETA: 2s - loss: 0.0797 - accuracy: 0.96 - ETA: 2s - loss: 0.0792 - accuracy: 0.96 - ETA: 2s - loss: 0.0821 - accuracy: 0.96 - ETA: 2s - loss: 0.0823 - accuracy: 0.96 - ETA: 2s - loss: 0.0812 - accuracy: 0.96 - ETA: 2s - loss: 0.0800 - accuracy: 0.96 - ETA: 2s - loss: 0.0805 - accuracy: 0.96 - ETA: 2s - loss: 0.0797 - accuracy: 0.97 - ETA: 2s - loss: 0.0797 - accuracy: 0.97 - ETA: 2s - loss: 0.0787 - accuracy: 0.97 - ETA: 2s - loss: 0.0778 - accuracy: 0.97 - ETA: 1s - loss: 0.0771 - accuracy: 0.97 - ETA: 1s - loss: 0.0759 - accuracy: 0.97 - ETA: 1s - loss: 0.0761 - accuracy: 0.97 - ETA: 1s - loss: 0.0762 - accuracy: 0.97 - ETA: 1s - loss: 0.0767 - accuracy: 0.97 - ETA: 1s - loss: 0.0769 - accuracy: 0.97 - ETA: 1s - loss: 0.0781 - accuracy: 0.97 - ETA: 1s - loss: 0.0782 - accuracy: 0.97 - ETA: 1s - loss: 0.0780 - accuracy: 0.97 - ETA: 1s - loss: 0.0783 - accuracy: 0.97 - ETA: 1s - loss: 0.0789 - accuracy: 0.97 - ETA: 1s - loss: 0.0783 - accuracy: 0.97 - ETA: 1s - loss: 0.0780 - accuracy: 0.97 - ETA: 1s - loss: 0.0784 - accuracy: 0.97 - ETA: 1s - loss: 0.0782 - accuracy: 0.97 - ETA: 1s - loss: 0.0771 - accuracy: 0.97 - ETA: 1s - loss: 0.0773 - accuracy: 0.97 - ETA: 0s - loss: 0.0791 - accuracy: 0.96 - ETA: 0s - loss: 0.0794 - accuracy: 0.96 - ETA: 0s - loss: 0.0800 - accuracy: 0.96 - ETA: 0s - loss: 0.0819 - accuracy: 0.96 - ETA: 0s - loss: 0.0830 - accuracy: 0.96 - ETA: 0s - loss: 0.0825 - accuracy: 0.96 - ETA: 0s - loss: 0.0821 - accuracy: 0.96 - ETA: 0s - loss: 0.0834 - accuracy: 0.96 - ETA: 0s - loss: 0.0829 - accuracy: 0.96 - ETA: 0s - loss: 0.0824 - accuracy: 0.96 - ETA: 0s - loss: 0.0819 - accuracy: 0.96 - ETA: 0s - loss: 0.0820 - accuracy: 0.96 - ETA: 0s - loss: 0.0814 - accuracy: 0.96 - ETA: 0s - loss: 0.0817 - accuracy: 0.96 - ETA: 0s - loss: 0.0819 - accuracy: 0.96 - 4s 41ms/step - loss: 0.0816 - accuracy: 0.9692 - val_loss: 0.1058 - val_accuracy: 0.9562\n",
      "Epoch 22/30\n",
      "103/103 [==============================] - ETA: 0s - loss: 0.0172 - accuracy: 1.00 - ETA: 2s - loss: 0.0450 - accuracy: 0.97 - ETA: 2s - loss: 0.0726 - accuracy: 0.96 - ETA: 3s - loss: 0.0648 - accuracy: 0.97 - ETA: 3s - loss: 0.0654 - accuracy: 0.97 - ETA: 3s - loss: 0.0681 - accuracy: 0.97 - ETA: 3s - loss: 0.0720 - accuracy: 0.97 - ETA: 3s - loss: 0.0726 - accuracy: 0.97 - ETA: 3s - loss: 0.0651 - accuracy: 0.97 - ETA: 3s - loss: 0.0647 - accuracy: 0.97 - ETA: 3s - loss: 0.0691 - accuracy: 0.97 - ETA: 3s - loss: 0.0713 - accuracy: 0.97 - ETA: 3s - loss: 0.0727 - accuracy: 0.97 - ETA: 3s - loss: 0.0742 - accuracy: 0.97 - ETA: 2s - loss: 0.0762 - accuracy: 0.97 - ETA: 2s - loss: 0.0753 - accuracy: 0.97 - ETA: 2s - loss: 0.0738 - accuracy: 0.97 - ETA: 2s - loss: 0.0741 - accuracy: 0.97 - ETA: 2s - loss: 0.0743 - accuracy: 0.97 - ETA: 2s - loss: 0.0773 - accuracy: 0.97 - ETA: 2s - loss: 0.0792 - accuracy: 0.96 - ETA: 2s - loss: 0.0779 - accuracy: 0.97 - ETA: 2s - loss: 0.0776 - accuracy: 0.96 - ETA: 2s - loss: 0.0804 - accuracy: 0.96 - ETA: 2s - loss: 0.0809 - accuracy: 0.96 - ETA: 2s - loss: 0.0825 - accuracy: 0.96 - ETA: 2s - loss: 0.0823 - accuracy: 0.96 - ETA: 2s - loss: 0.0844 - accuracy: 0.96 - ETA: 2s - loss: 0.0856 - accuracy: 0.96 - ETA: 1s - loss: 0.0851 - accuracy: 0.96 - ETA: 1s - loss: 0.0844 - accuracy: 0.96 - ETA: 1s - loss: 0.0842 - accuracy: 0.96 - ETA: 1s - loss: 0.0848 - accuracy: 0.96 - ETA: 1s - loss: 0.0840 - accuracy: 0.96 - ETA: 1s - loss: 0.0855 - accuracy: 0.96 - ETA: 1s - loss: 0.0862 - accuracy: 0.96 - ETA: 1s - loss: 0.0873 - accuracy: 0.96 - ETA: 1s - loss: 0.0850 - accuracy: 0.96 - ETA: 1s - loss: 0.0866 - accuracy: 0.96 - ETA: 1s - loss: 0.0864 - accuracy: 0.96 - ETA: 1s - loss: 0.0857 - accuracy: 0.96 - ETA: 1s - loss: 0.0869 - accuracy: 0.96 - ETA: 1s - loss: 0.0864 - accuracy: 0.96 - ETA: 1s - loss: 0.0855 - accuracy: 0.96 - ETA: 1s - loss: 0.0848 - accuracy: 0.96 - ETA: 1s - loss: 0.0859 - accuracy: 0.96 - ETA: 0s - loss: 0.0867 - accuracy: 0.96 - ETA: 0s - loss: 0.0854 - accuracy: 0.96 - ETA: 0s - loss: 0.0850 - accuracy: 0.96 - ETA: 0s - loss: 0.0845 - accuracy: 0.96 - ETA: 0s - loss: 0.0854 - accuracy: 0.96 - ETA: 0s - loss: 0.0845 - accuracy: 0.96 - ETA: 0s - loss: 0.0848 - accuracy: 0.96 - ETA: 0s - loss: 0.0849 - accuracy: 0.96 - ETA: 0s - loss: 0.0846 - accuracy: 0.96 - ETA: 0s - loss: 0.0868 - accuracy: 0.96 - ETA: 0s - loss: 0.0856 - accuracy: 0.96 - ETA: 0s - loss: 0.0855 - accuracy: 0.96 - ETA: 0s - loss: 0.0854 - accuracy: 0.96 - ETA: 0s - loss: 0.0851 - accuracy: 0.96 - 4s 41ms/step - loss: 0.0852 - accuracy: 0.9680 - val_loss: 0.1031 - val_accuracy: 0.9635\n",
      "Epoch 23/30\n",
      "103/103 [==============================] - ETA: 0s - loss: 0.0485 - accuracy: 1.00 - ETA: 2s - loss: 0.0359 - accuracy: 1.00 - ETA: 2s - loss: 0.0469 - accuracy: 0.99 - ETA: 3s - loss: 0.0465 - accuracy: 0.98 - ETA: 3s - loss: 0.0528 - accuracy: 0.98 - ETA: 3s - loss: 0.0576 - accuracy: 0.98 - ETA: 3s - loss: 0.0590 - accuracy: 0.98 - ETA: 3s - loss: 0.0675 - accuracy: 0.98 - ETA: 3s - loss: 0.0753 - accuracy: 0.97 - ETA: 3s - loss: 0.0808 - accuracy: 0.97 - ETA: 3s - loss: 0.0806 - accuracy: 0.97 - ETA: 3s - loss: 0.0793 - accuracy: 0.97 - ETA: 3s - loss: 0.0771 - accuracy: 0.97 - ETA: 3s - loss: 0.0811 - accuracy: 0.97 - ETA: 2s - loss: 0.0777 - accuracy: 0.97 - ETA: 2s - loss: 0.0767 - accuracy: 0.97 - ETA: 2s - loss: 0.0784 - accuracy: 0.97 - ETA: 2s - loss: 0.0778 - accuracy: 0.97 - ETA: 2s - loss: 0.0795 - accuracy: 0.97 - ETA: 2s - loss: 0.0799 - accuracy: 0.97 - ETA: 2s - loss: 0.0785 - accuracy: 0.97 - ETA: 2s - loss: 0.0808 - accuracy: 0.97 - ETA: 2s - loss: 0.0845 - accuracy: 0.96 - ETA: 2s - loss: 0.0836 - accuracy: 0.97 - ETA: 2s - loss: 0.0820 - accuracy: 0.97 - ETA: 2s - loss: 0.0828 - accuracy: 0.97 - ETA: 2s - loss: 0.0815 - accuracy: 0.97 - ETA: 2s - loss: 0.0821 - accuracy: 0.97 - ETA: 2s - loss: 0.0821 - accuracy: 0.97 - ETA: 2s - loss: 0.0809 - accuracy: 0.97 - ETA: 1s - loss: 0.0811 - accuracy: 0.97 - ETA: 1s - loss: 0.0823 - accuracy: 0.97 - ETA: 1s - loss: 0.0827 - accuracy: 0.97 - ETA: 1s - loss: 0.0817 - accuracy: 0.97 - ETA: 1s - loss: 0.0808 - accuracy: 0.97 - ETA: 1s - loss: 0.0792 - accuracy: 0.97 - ETA: 1s - loss: 0.0796 - accuracy: 0.97 - ETA: 1s - loss: 0.0779 - accuracy: 0.97 - ETA: 1s - loss: 0.0776 - accuracy: 0.97 - ETA: 1s - loss: 0.0795 - accuracy: 0.97 - ETA: 1s - loss: 0.0791 - accuracy: 0.97 - ETA: 1s - loss: 0.0793 - accuracy: 0.97 - ETA: 1s - loss: 0.0791 - accuracy: 0.97 - ETA: 1s - loss: 0.0800 - accuracy: 0.97 - ETA: 1s - loss: 0.0795 - accuracy: 0.97 - ETA: 0s - loss: 0.0798 - accuracy: 0.97 - ETA: 0s - loss: 0.0801 - accuracy: 0.97 - ETA: 0s - loss: 0.0803 - accuracy: 0.97 - ETA: 0s - loss: 0.0797 - accuracy: 0.97 - ETA: 0s - loss: 0.0801 - accuracy: 0.97 - ETA: 0s - loss: 0.0810 - accuracy: 0.97 - ETA: 0s - loss: 0.0807 - accuracy: 0.97 - ETA: 0s - loss: 0.0810 - accuracy: 0.97 - ETA: 0s - loss: 0.0807 - accuracy: 0.97 - ETA: 0s - loss: 0.0807 - accuracy: 0.97 - ETA: 0s - loss: 0.0806 - accuracy: 0.97 - ETA: 0s - loss: 0.0805 - accuracy: 0.97 - ETA: 0s - loss: 0.0804 - accuracy: 0.97 - ETA: 0s - loss: 0.0800 - accuracy: 0.97 - 4s 41ms/step - loss: 0.0797 - accuracy: 0.9726 - val_loss: 0.1122 - val_accuracy: 0.9562\n",
      "Epoch 24/30\n"
     ]
    },
    {
     "name": "stdout",
     "output_type": "stream",
     "text": [
      "103/103 [==============================] - ETA: 0s - loss: 0.0574 - accuracy: 1.00 - ETA: 2s - loss: 0.0944 - accuracy: 0.97 - ETA: 2s - loss: 0.0925 - accuracy: 0.98 - ETA: 3s - loss: 0.0789 - accuracy: 0.98 - ETA: 3s - loss: 0.0696 - accuracy: 0.98 - ETA: 3s - loss: 0.0724 - accuracy: 0.98 - ETA: 3s - loss: 0.0665 - accuracy: 0.98 - ETA: 3s - loss: 0.0600 - accuracy: 0.98 - ETA: 3s - loss: 0.0574 - accuracy: 0.98 - ETA: 3s - loss: 0.0565 - accuracy: 0.98 - ETA: 3s - loss: 0.0567 - accuracy: 0.98 - ETA: 3s - loss: 0.0672 - accuracy: 0.98 - ETA: 3s - loss: 0.0671 - accuracy: 0.98 - ETA: 2s - loss: 0.0673 - accuracy: 0.98 - ETA: 2s - loss: 0.0660 - accuracy: 0.98 - ETA: 2s - loss: 0.0651 - accuracy: 0.98 - ETA: 2s - loss: 0.0640 - accuracy: 0.98 - ETA: 2s - loss: 0.0671 - accuracy: 0.98 - ETA: 2s - loss: 0.0664 - accuracy: 0.98 - ETA: 2s - loss: 0.0660 - accuracy: 0.98 - ETA: 2s - loss: 0.0646 - accuracy: 0.98 - ETA: 2s - loss: 0.0737 - accuracy: 0.97 - ETA: 2s - loss: 0.0755 - accuracy: 0.97 - ETA: 2s - loss: 0.0744 - accuracy: 0.97 - ETA: 2s - loss: 0.0746 - accuracy: 0.97 - ETA: 2s - loss: 0.0731 - accuracy: 0.97 - ETA: 2s - loss: 0.0736 - accuracy: 0.97 - ETA: 2s - loss: 0.0733 - accuracy: 0.97 - ETA: 2s - loss: 0.0724 - accuracy: 0.97 - ETA: 2s - loss: 0.0717 - accuracy: 0.97 - ETA: 2s - loss: 0.0730 - accuracy: 0.97 - ETA: 2s - loss: 0.0722 - accuracy: 0.97 - ETA: 1s - loss: 0.0712 - accuracy: 0.97 - ETA: 1s - loss: 0.0761 - accuracy: 0.97 - ETA: 1s - loss: 0.0779 - accuracy: 0.97 - ETA: 1s - loss: 0.0788 - accuracy: 0.97 - ETA: 1s - loss: 0.0780 - accuracy: 0.97 - ETA: 1s - loss: 0.0791 - accuracy: 0.97 - ETA: 1s - loss: 0.0782 - accuracy: 0.97 - ETA: 1s - loss: 0.0773 - accuracy: 0.97 - ETA: 1s - loss: 0.0792 - accuracy: 0.97 - ETA: 1s - loss: 0.0801 - accuracy: 0.97 - ETA: 1s - loss: 0.0831 - accuracy: 0.97 - ETA: 1s - loss: 0.0834 - accuracy: 0.97 - ETA: 1s - loss: 0.0841 - accuracy: 0.96 - ETA: 1s - loss: 0.0847 - accuracy: 0.96 - ETA: 1s - loss: 0.0841 - accuracy: 0.96 - ETA: 1s - loss: 0.0845 - accuracy: 0.96 - ETA: 0s - loss: 0.0836 - accuracy: 0.96 - ETA: 0s - loss: 0.0836 - accuracy: 0.96 - ETA: 0s - loss: 0.0824 - accuracy: 0.96 - ETA: 0s - loss: 0.0827 - accuracy: 0.96 - ETA: 0s - loss: 0.0822 - accuracy: 0.96 - ETA: 0s - loss: 0.0816 - accuracy: 0.96 - ETA: 0s - loss: 0.0809 - accuracy: 0.97 - ETA: 0s - loss: 0.0813 - accuracy: 0.97 - ETA: 0s - loss: 0.0807 - accuracy: 0.97 - ETA: 0s - loss: 0.0800 - accuracy: 0.97 - ETA: 0s - loss: 0.0797 - accuracy: 0.97 - ETA: 0s - loss: 0.0807 - accuracy: 0.97 - ETA: 0s - loss: 0.0797 - accuracy: 0.97 - ETA: 0s - loss: 0.0803 - accuracy: 0.97 - 4s 41ms/step - loss: 0.0805 - accuracy: 0.9714 - val_loss: 0.0997 - val_accuracy: 0.9611\n",
      "Epoch 25/30\n",
      "103/103 [==============================] - ETA: 0s - loss: 0.0287 - accuracy: 1.00 - ETA: 2s - loss: 0.0619 - accuracy: 0.97 - ETA: 2s - loss: 0.0594 - accuracy: 0.98 - ETA: 3s - loss: 0.0480 - accuracy: 0.98 - ETA: 3s - loss: 0.0546 - accuracy: 0.98 - ETA: 3s - loss: 0.0640 - accuracy: 0.98 - ETA: 3s - loss: 0.0654 - accuracy: 0.97 - ETA: 3s - loss: 0.0619 - accuracy: 0.97 - ETA: 3s - loss: 0.0617 - accuracy: 0.98 - ETA: 3s - loss: 0.0610 - accuracy: 0.98 - ETA: 3s - loss: 0.0688 - accuracy: 0.97 - ETA: 3s - loss: 0.0733 - accuracy: 0.97 - ETA: 2s - loss: 0.0693 - accuracy: 0.97 - ETA: 2s - loss: 0.0678 - accuracy: 0.97 - ETA: 2s - loss: 0.0695 - accuracy: 0.97 - ETA: 2s - loss: 0.0677 - accuracy: 0.97 - ETA: 2s - loss: 0.0666 - accuracy: 0.97 - ETA: 2s - loss: 0.0681 - accuracy: 0.97 - ETA: 2s - loss: 0.0677 - accuracy: 0.97 - ETA: 2s - loss: 0.0667 - accuracy: 0.97 - ETA: 2s - loss: 0.0673 - accuracy: 0.97 - ETA: 2s - loss: 0.0657 - accuracy: 0.97 - ETA: 2s - loss: 0.0666 - accuracy: 0.97 - ETA: 2s - loss: 0.0669 - accuracy: 0.97 - ETA: 2s - loss: 0.0654 - accuracy: 0.97 - ETA: 2s - loss: 0.0661 - accuracy: 0.97 - ETA: 2s - loss: 0.0641 - accuracy: 0.97 - ETA: 2s - loss: 0.0634 - accuracy: 0.97 - ETA: 2s - loss: 0.0627 - accuracy: 0.97 - ETA: 1s - loss: 0.0625 - accuracy: 0.97 - ETA: 1s - loss: 0.0625 - accuracy: 0.97 - ETA: 1s - loss: 0.0631 - accuracy: 0.97 - ETA: 1s - loss: 0.0629 - accuracy: 0.97 - ETA: 1s - loss: 0.0626 - accuracy: 0.97 - ETA: 1s - loss: 0.0629 - accuracy: 0.97 - ETA: 1s - loss: 0.0622 - accuracy: 0.97 - ETA: 1s - loss: 0.0632 - accuracy: 0.97 - ETA: 1s - loss: 0.0638 - accuracy: 0.97 - ETA: 1s - loss: 0.0633 - accuracy: 0.97 - ETA: 1s - loss: 0.0631 - accuracy: 0.97 - ETA: 1s - loss: 0.0627 - accuracy: 0.97 - ETA: 1s - loss: 0.0633 - accuracy: 0.97 - ETA: 1s - loss: 0.0637 - accuracy: 0.97 - ETA: 1s - loss: 0.0634 - accuracy: 0.97 - ETA: 1s - loss: 0.0635 - accuracy: 0.97 - ETA: 0s - loss: 0.0645 - accuracy: 0.97 - ETA: 0s - loss: 0.0653 - accuracy: 0.97 - ETA: 0s - loss: 0.0642 - accuracy: 0.97 - ETA: 0s - loss: 0.0660 - accuracy: 0.97 - ETA: 0s - loss: 0.0659 - accuracy: 0.97 - ETA: 0s - loss: 0.0662 - accuracy: 0.97 - ETA: 0s - loss: 0.0663 - accuracy: 0.97 - ETA: 0s - loss: 0.0670 - accuracy: 0.97 - ETA: 0s - loss: 0.0679 - accuracy: 0.97 - ETA: 0s - loss: 0.0677 - accuracy: 0.97 - ETA: 0s - loss: 0.0675 - accuracy: 0.97 - ETA: 0s - loss: 0.0674 - accuracy: 0.97 - ETA: 0s - loss: 0.0671 - accuracy: 0.97 - ETA: 0s - loss: 0.0676 - accuracy: 0.97 - ETA: 0s - loss: 0.0687 - accuracy: 0.97 - 4s 41ms/step - loss: 0.0687 - accuracy: 0.9753 - val_loss: 0.1092 - val_accuracy: 0.9513\n",
      "Epoch 26/30\n"
     ]
    },
    {
     "name": "stdout",
     "output_type": "stream",
     "text": [
      "103/103 [==============================] - ETA: 0s - loss: 0.0972 - accuracy: 0.96 - ETA: 2s - loss: 0.0759 - accuracy: 0.96 - ETA: 2s - loss: 0.0608 - accuracy: 0.98 - ETA: 2s - loss: 0.0623 - accuracy: 0.97 - ETA: 3s - loss: 0.0713 - accuracy: 0.97 - ETA: 3s - loss: 0.0800 - accuracy: 0.96 - ETA: 3s - loss: 0.0777 - accuracy: 0.96 - ETA: 3s - loss: 0.0809 - accuracy: 0.96 - ETA: 3s - loss: 0.0774 - accuracy: 0.96 - ETA: 3s - loss: 0.0748 - accuracy: 0.96 - ETA: 3s - loss: 0.0742 - accuracy: 0.96 - ETA: 3s - loss: 0.0730 - accuracy: 0.96 - ETA: 3s - loss: 0.0742 - accuracy: 0.96 - ETA: 3s - loss: 0.0732 - accuracy: 0.96 - ETA: 3s - loss: 0.0702 - accuracy: 0.96 - ETA: 3s - loss: 0.0701 - accuracy: 0.96 - ETA: 3s - loss: 0.0700 - accuracy: 0.96 - ETA: 3s - loss: 0.0692 - accuracy: 0.96 - ETA: 3s - loss: 0.0693 - accuracy: 0.96 - ETA: 2s - loss: 0.0693 - accuracy: 0.96 - ETA: 2s - loss: 0.0700 - accuracy: 0.96 - ETA: 2s - loss: 0.0694 - accuracy: 0.96 - ETA: 2s - loss: 0.0699 - accuracy: 0.97 - ETA: 2s - loss: 0.0695 - accuracy: 0.97 - ETA: 2s - loss: 0.0683 - accuracy: 0.97 - ETA: 2s - loss: 0.0692 - accuracy: 0.97 - ETA: 2s - loss: 0.0681 - accuracy: 0.97 - ETA: 2s - loss: 0.0704 - accuracy: 0.97 - ETA: 2s - loss: 0.0696 - accuracy: 0.97 - ETA: 2s - loss: 0.0689 - accuracy: 0.97 - ETA: 2s - loss: 0.0686 - accuracy: 0.97 - ETA: 2s - loss: 0.0683 - accuracy: 0.97 - ETA: 2s - loss: 0.0672 - accuracy: 0.97 - ETA: 2s - loss: 0.0664 - accuracy: 0.97 - ETA: 2s - loss: 0.0655 - accuracy: 0.97 - ETA: 2s - loss: 0.0640 - accuracy: 0.97 - ETA: 2s - loss: 0.0632 - accuracy: 0.97 - ETA: 2s - loss: 0.0626 - accuracy: 0.97 - ETA: 2s - loss: 0.0618 - accuracy: 0.97 - ETA: 2s - loss: 0.0617 - accuracy: 0.97 - ETA: 1s - loss: 0.0609 - accuracy: 0.97 - ETA: 1s - loss: 0.0613 - accuracy: 0.97 - ETA: 1s - loss: 0.0606 - accuracy: 0.97 - ETA: 1s - loss: 0.0601 - accuracy: 0.97 - ETA: 1s - loss: 0.0615 - accuracy: 0.97 - ETA: 1s - loss: 0.0616 - accuracy: 0.97 - ETA: 1s - loss: 0.0608 - accuracy: 0.97 - ETA: 1s - loss: 0.0628 - accuracy: 0.97 - ETA: 1s - loss: 0.0622 - accuracy: 0.97 - ETA: 1s - loss: 0.0610 - accuracy: 0.97 - ETA: 1s - loss: 0.0659 - accuracy: 0.97 - ETA: 1s - loss: 0.0664 - accuracy: 0.97 - ETA: 1s - loss: 0.0662 - accuracy: 0.97 - ETA: 1s - loss: 0.0663 - accuracy: 0.97 - ETA: 0s - loss: 0.0673 - accuracy: 0.97 - ETA: 0s - loss: 0.0676 - accuracy: 0.97 - ETA: 0s - loss: 0.0687 - accuracy: 0.97 - ETA: 0s - loss: 0.0695 - accuracy: 0.97 - ETA: 0s - loss: 0.0699 - accuracy: 0.97 - ETA: 0s - loss: 0.0691 - accuracy: 0.97 - ETA: 0s - loss: 0.0705 - accuracy: 0.97 - ETA: 0s - loss: 0.0700 - accuracy: 0.97 - ETA: 0s - loss: 0.0695 - accuracy: 0.97 - ETA: 0s - loss: 0.0694 - accuracy: 0.97 - ETA: 0s - loss: 0.0695 - accuracy: 0.97 - ETA: 0s - loss: 0.0693 - accuracy: 0.97 - ETA: 0s - loss: 0.0699 - accuracy: 0.97 - ETA: 0s - loss: 0.0704 - accuracy: 0.97 - 5s 46ms/step - loss: 0.0704 - accuracy: 0.9744 - val_loss: 0.0951 - val_accuracy: 0.9611\n",
      "Epoch 27/30\n",
      "103/103 [==============================] - ETA: 0s - loss: 0.0619 - accuracy: 0.96 - ETA: 2s - loss: 0.1434 - accuracy: 0.95 - ETA: 3s - loss: 0.1041 - accuracy: 0.96 - ETA: 3s - loss: 0.1022 - accuracy: 0.96 - ETA: 3s - loss: 0.0979 - accuracy: 0.96 - ETA: 3s - loss: 0.1018 - accuracy: 0.96 - ETA: 3s - loss: 0.1082 - accuracy: 0.96 - ETA: 3s - loss: 0.1020 - accuracy: 0.96 - ETA: 3s - loss: 0.1054 - accuracy: 0.96 - ETA: 3s - loss: 0.0956 - accuracy: 0.96 - ETA: 3s - loss: 0.0904 - accuracy: 0.96 - ETA: 3s - loss: 0.0918 - accuracy: 0.96 - ETA: 3s - loss: 0.0901 - accuracy: 0.96 - ETA: 3s - loss: 0.0907 - accuracy: 0.96 - ETA: 2s - loss: 0.0862 - accuracy: 0.97 - ETA: 2s - loss: 0.0875 - accuracy: 0.96 - ETA: 2s - loss: 0.0896 - accuracy: 0.96 - ETA: 2s - loss: 0.0923 - accuracy: 0.96 - ETA: 2s - loss: 0.0901 - accuracy: 0.96 - ETA: 2s - loss: 0.0892 - accuracy: 0.96 - ETA: 2s - loss: 0.0882 - accuracy: 0.96 - ETA: 2s - loss: 0.0870 - accuracy: 0.96 - ETA: 2s - loss: 0.0883 - accuracy: 0.96 - ETA: 2s - loss: 0.0852 - accuracy: 0.97 - ETA: 2s - loss: 0.0844 - accuracy: 0.97 - ETA: 2s - loss: 0.0854 - accuracy: 0.96 - ETA: 2s - loss: 0.0847 - accuracy: 0.96 - ETA: 2s - loss: 0.0834 - accuracy: 0.97 - ETA: 2s - loss: 0.0821 - accuracy: 0.97 - ETA: 2s - loss: 0.0808 - accuracy: 0.97 - ETA: 1s - loss: 0.0830 - accuracy: 0.97 - ETA: 1s - loss: 0.0817 - accuracy: 0.97 - ETA: 1s - loss: 0.0811 - accuracy: 0.97 - ETA: 1s - loss: 0.0802 - accuracy: 0.97 - ETA: 1s - loss: 0.0805 - accuracy: 0.97 - ETA: 1s - loss: 0.0796 - accuracy: 0.97 - ETA: 1s - loss: 0.0788 - accuracy: 0.97 - ETA: 1s - loss: 0.0796 - accuracy: 0.97 - ETA: 1s - loss: 0.0809 - accuracy: 0.97 - ETA: 1s - loss: 0.0804 - accuracy: 0.97 - ETA: 1s - loss: 0.0799 - accuracy: 0.97 - ETA: 1s - loss: 0.0806 - accuracy: 0.97 - ETA: 1s - loss: 0.0800 - accuracy: 0.96 - ETA: 1s - loss: 0.0790 - accuracy: 0.97 - ETA: 1s - loss: 0.0786 - accuracy: 0.97 - ETA: 0s - loss: 0.0781 - accuracy: 0.97 - ETA: 0s - loss: 0.0781 - accuracy: 0.97 - ETA: 0s - loss: 0.0774 - accuracy: 0.97 - ETA: 0s - loss: 0.0774 - accuracy: 0.97 - ETA: 0s - loss: 0.0766 - accuracy: 0.97 - ETA: 0s - loss: 0.0766 - accuracy: 0.97 - ETA: 0s - loss: 0.0763 - accuracy: 0.97 - ETA: 0s - loss: 0.0760 - accuracy: 0.97 - ETA: 0s - loss: 0.0752 - accuracy: 0.97 - ETA: 0s - loss: 0.0747 - accuracy: 0.97 - ETA: 0s - loss: 0.0755 - accuracy: 0.97 - ETA: 0s - loss: 0.0752 - accuracy: 0.97 - ETA: 0s - loss: 0.0756 - accuracy: 0.97 - ETA: 0s - loss: 0.0754 - accuracy: 0.97 - ETA: 0s - loss: 0.0751 - accuracy: 0.97 - 4s 41ms/step - loss: 0.0748 - accuracy: 0.9729 - val_loss: 0.0993 - val_accuracy: 0.9550\n",
      "Epoch 28/30\n"
     ]
    },
    {
     "name": "stdout",
     "output_type": "stream",
     "text": [
      "103/103 [==============================] - ETA: 0s - loss: 0.1020 - accuracy: 0.96 - ETA: 2s - loss: 0.0861 - accuracy: 0.95 - ETA: 2s - loss: 0.0768 - accuracy: 0.96 - ETA: 3s - loss: 0.0862 - accuracy: 0.96 - ETA: 3s - loss: 0.0733 - accuracy: 0.96 - ETA: 3s - loss: 0.0802 - accuracy: 0.96 - ETA: 3s - loss: 0.0763 - accuracy: 0.96 - ETA: 3s - loss: 0.0894 - accuracy: 0.96 - ETA: 3s - loss: 0.0868 - accuracy: 0.96 - ETA: 3s - loss: 0.0841 - accuracy: 0.96 - ETA: 3s - loss: 0.0803 - accuracy: 0.97 - ETA: 3s - loss: 0.0805 - accuracy: 0.96 - ETA: 3s - loss: 0.0892 - accuracy: 0.96 - ETA: 3s - loss: 0.0830 - accuracy: 0.96 - ETA: 3s - loss: 0.0807 - accuracy: 0.96 - ETA: 2s - loss: 0.0779 - accuracy: 0.96 - ETA: 2s - loss: 0.0757 - accuracy: 0.96 - ETA: 2s - loss: 0.0752 - accuracy: 0.96 - ETA: 2s - loss: 0.0738 - accuracy: 0.96 - ETA: 2s - loss: 0.0729 - accuracy: 0.96 - ETA: 2s - loss: 0.0746 - accuracy: 0.97 - ETA: 2s - loss: 0.0735 - accuracy: 0.97 - ETA: 2s - loss: 0.0757 - accuracy: 0.97 - ETA: 2s - loss: 0.0740 - accuracy: 0.97 - ETA: 2s - loss: 0.0728 - accuracy: 0.97 - ETA: 2s - loss: 0.0716 - accuracy: 0.97 - ETA: 2s - loss: 0.0708 - accuracy: 0.97 - ETA: 2s - loss: 0.0762 - accuracy: 0.97 - ETA: 2s - loss: 0.0757 - accuracy: 0.97 - ETA: 2s - loss: 0.0743 - accuracy: 0.97 - ETA: 2s - loss: 0.0734 - accuracy: 0.97 - ETA: 1s - loss: 0.0739 - accuracy: 0.97 - ETA: 1s - loss: 0.0734 - accuracy: 0.97 - ETA: 1s - loss: 0.0725 - accuracy: 0.97 - ETA: 1s - loss: 0.0729 - accuracy: 0.97 - ETA: 1s - loss: 0.0731 - accuracy: 0.97 - ETA: 1s - loss: 0.0723 - accuracy: 0.97 - ETA: 1s - loss: 0.0725 - accuracy: 0.97 - ETA: 1s - loss: 0.0730 - accuracy: 0.97 - ETA: 1s - loss: 0.0727 - accuracy: 0.97 - ETA: 1s - loss: 0.0720 - accuracy: 0.97 - ETA: 1s - loss: 0.0724 - accuracy: 0.97 - ETA: 1s - loss: 0.0716 - accuracy: 0.97 - ETA: 1s - loss: 0.0710 - accuracy: 0.97 - ETA: 1s - loss: 0.0705 - accuracy: 0.97 - ETA: 1s - loss: 0.0701 - accuracy: 0.97 - ETA: 0s - loss: 0.0699 - accuracy: 0.97 - ETA: 0s - loss: 0.0701 - accuracy: 0.97 - ETA: 0s - loss: 0.0697 - accuracy: 0.97 - ETA: 0s - loss: 0.0697 - accuracy: 0.97 - ETA: 0s - loss: 0.0696 - accuracy: 0.97 - ETA: 0s - loss: 0.0696 - accuracy: 0.97 - ETA: 0s - loss: 0.0690 - accuracy: 0.97 - ETA: 0s - loss: 0.0690 - accuracy: 0.97 - ETA: 0s - loss: 0.0694 - accuracy: 0.97 - ETA: 0s - loss: 0.0698 - accuracy: 0.97 - ETA: 0s - loss: 0.0703 - accuracy: 0.97 - ETA: 0s - loss: 0.0701 - accuracy: 0.97 - ETA: 0s - loss: 0.0698 - accuracy: 0.97 - ETA: 0s - loss: 0.0696 - accuracy: 0.97 - ETA: 0s - loss: 0.0692 - accuracy: 0.97 - ETA: 0s - loss: 0.0690 - accuracy: 0.97 - ETA: 0s - loss: 0.0689 - accuracy: 0.97 - ETA: 0s - loss: 0.0697 - accuracy: 0.97 - ETA: 0s - loss: 0.0694 - accuracy: 0.97 - ETA: 0s - loss: 0.0692 - accuracy: 0.97 - ETA: 0s - loss: 0.0693 - accuracy: 0.97 - 5s 47ms/step - loss: 0.0693 - accuracy: 0.9769 - val_loss: 0.0871 - val_accuracy: 0.9672\n",
      "Epoch 29/30\n",
      "103/103 [==============================] - ETA: 0s - loss: 0.0163 - accuracy: 1.00 - ETA: 2s - loss: 0.0397 - accuracy: 0.98 - ETA: 3s - loss: 0.0377 - accuracy: 0.98 - ETA: 3s - loss: 0.0340 - accuracy: 0.98 - ETA: 3s - loss: 0.0322 - accuracy: 0.99 - ETA: 3s - loss: 0.0404 - accuracy: 0.98 - ETA: 3s - loss: 0.0387 - accuracy: 0.98 - ETA: 3s - loss: 0.0352 - accuracy: 0.98 - ETA: 3s - loss: 0.0390 - accuracy: 0.98 - ETA: 3s - loss: 0.0389 - accuracy: 0.98 - ETA: 3s - loss: 0.0385 - accuracy: 0.98 - ETA: 3s - loss: 0.0458 - accuracy: 0.98 - ETA: 3s - loss: 0.0485 - accuracy: 0.98 - ETA: 3s - loss: 0.0469 - accuracy: 0.98 - ETA: 3s - loss: 0.0489 - accuracy: 0.98 - ETA: 3s - loss: 0.0491 - accuracy: 0.98 - ETA: 3s - loss: 0.0490 - accuracy: 0.98 - ETA: 3s - loss: 0.0510 - accuracy: 0.98 - ETA: 3s - loss: 0.0518 - accuracy: 0.98 - ETA: 3s - loss: 0.0508 - accuracy: 0.98 - ETA: 3s - loss: 0.0499 - accuracy: 0.98 - ETA: 3s - loss: 0.0513 - accuracy: 0.98 - ETA: 3s - loss: 0.0507 - accuracy: 0.98 - ETA: 3s - loss: 0.0516 - accuracy: 0.98 - ETA: 3s - loss: 0.0511 - accuracy: 0.98 - ETA: 3s - loss: 0.0507 - accuracy: 0.98 - ETA: 3s - loss: 0.0500 - accuracy: 0.98 - ETA: 3s - loss: 0.0489 - accuracy: 0.98 - ETA: 3s - loss: 0.0489 - accuracy: 0.98 - ETA: 3s - loss: 0.0490 - accuracy: 0.98 - ETA: 3s - loss: 0.0506 - accuracy: 0.98 - ETA: 3s - loss: 0.0508 - accuracy: 0.98 - ETA: 3s - loss: 0.0508 - accuracy: 0.98 - ETA: 3s - loss: 0.0505 - accuracy: 0.98 - ETA: 3s - loss: 0.0513 - accuracy: 0.98 - ETA: 3s - loss: 0.0502 - accuracy: 0.98 - ETA: 3s - loss: 0.0519 - accuracy: 0.98 - ETA: 3s - loss: 0.0520 - accuracy: 0.98 - ETA: 3s - loss: 0.0531 - accuracy: 0.98 - ETA: 3s - loss: 0.0522 - accuracy: 0.98 - ETA: 2s - loss: 0.0521 - accuracy: 0.98 - ETA: 2s - loss: 0.0543 - accuracy: 0.98 - ETA: 2s - loss: 0.0543 - accuracy: 0.98 - ETA: 2s - loss: 0.0540 - accuracy: 0.98 - ETA: 2s - loss: 0.0536 - accuracy: 0.98 - ETA: 2s - loss: 0.0556 - accuracy: 0.98 - ETA: 2s - loss: 0.0562 - accuracy: 0.98 - ETA: 2s - loss: 0.0568 - accuracy: 0.98 - ETA: 2s - loss: 0.0563 - accuracy: 0.98 - ETA: 2s - loss: 0.0565 - accuracy: 0.98 - ETA: 2s - loss: 0.0564 - accuracy: 0.98 - ETA: 2s - loss: 0.0562 - accuracy: 0.98 - ETA: 2s - loss: 0.0571 - accuracy: 0.98 - ETA: 1s - loss: 0.0564 - accuracy: 0.98 - ETA: 1s - loss: 0.0569 - accuracy: 0.98 - ETA: 1s - loss: 0.0574 - accuracy: 0.98 - ETA: 1s - loss: 0.0574 - accuracy: 0.98 - ETA: 1s - loss: 0.0576 - accuracy: 0.98 - ETA: 1s - loss: 0.0583 - accuracy: 0.98 - ETA: 1s - loss: 0.0586 - accuracy: 0.97 - ETA: 1s - loss: 0.0590 - accuracy: 0.97 - ETA: 1s - loss: 0.0591 - accuracy: 0.97 - ETA: 1s - loss: 0.0610 - accuracy: 0.97 - ETA: 0s - loss: 0.0606 - accuracy: 0.97 - ETA: 0s - loss: 0.0606 - accuracy: 0.97 - ETA: 0s - loss: 0.0605 - accuracy: 0.97 - ETA: 0s - loss: 0.0613 - accuracy: 0.97 - ETA: 0s - loss: 0.0612 - accuracy: 0.97 - ETA: 0s - loss: 0.0618 - accuracy: 0.97 - ETA: 0s - loss: 0.0621 - accuracy: 0.97 - ETA: 0s - loss: 0.0619 - accuracy: 0.97 - ETA: 0s - loss: 0.0619 - accuracy: 0.97 - ETA: 0s - loss: 0.0612 - accuracy: 0.97 - ETA: 0s - loss: 0.0619 - accuracy: 0.97 - ETA: 0s - loss: 0.0616 - accuracy: 0.97 - 5s 51ms/step - loss: 0.0616 - accuracy: 0.9781 - val_loss: 0.0929 - val_accuracy: 0.9599\n",
      "Epoch 30/30\n"
     ]
    },
    {
     "name": "stdout",
     "output_type": "stream",
     "text": [
      "103/103 [==============================] - ETA: 0s - loss: 0.0593 - accuracy: 1.00 - ETA: 2s - loss: 0.0548 - accuracy: 1.00 - ETA: 2s - loss: 0.0539 - accuracy: 0.99 - ETA: 3s - loss: 0.0493 - accuracy: 0.99 - ETA: 3s - loss: 0.0520 - accuracy: 0.99 - ETA: 3s - loss: 0.0478 - accuracy: 0.99 - ETA: 3s - loss: 0.0605 - accuracy: 0.98 - ETA: 3s - loss: 0.0563 - accuracy: 0.98 - ETA: 3s - loss: 0.0558 - accuracy: 0.98 - ETA: 3s - loss: 0.0612 - accuracy: 0.98 - ETA: 3s - loss: 0.0642 - accuracy: 0.97 - ETA: 3s - loss: 0.0604 - accuracy: 0.98 - ETA: 3s - loss: 0.0590 - accuracy: 0.98 - ETA: 3s - loss: 0.0605 - accuracy: 0.97 - ETA: 3s - loss: 0.0584 - accuracy: 0.97 - ETA: 3s - loss: 0.0607 - accuracy: 0.97 - ETA: 3s - loss: 0.0599 - accuracy: 0.97 - ETA: 2s - loss: 0.0585 - accuracy: 0.97 - ETA: 2s - loss: 0.0587 - accuracy: 0.97 - ETA: 2s - loss: 0.0602 - accuracy: 0.97 - ETA: 2s - loss: 0.0609 - accuracy: 0.97 - ETA: 2s - loss: 0.0623 - accuracy: 0.97 - ETA: 2s - loss: 0.0618 - accuracy: 0.97 - ETA: 2s - loss: 0.0601 - accuracy: 0.97 - ETA: 2s - loss: 0.0601 - accuracy: 0.97 - ETA: 2s - loss: 0.0612 - accuracy: 0.97 - ETA: 2s - loss: 0.0625 - accuracy: 0.97 - ETA: 2s - loss: 0.0611 - accuracy: 0.97 - ETA: 2s - loss: 0.0611 - accuracy: 0.97 - ETA: 2s - loss: 0.0605 - accuracy: 0.97 - ETA: 2s - loss: 0.0587 - accuracy: 0.98 - ETA: 1s - loss: 0.0578 - accuracy: 0.98 - ETA: 1s - loss: 0.0579 - accuracy: 0.98 - ETA: 1s - loss: 0.0576 - accuracy: 0.98 - ETA: 1s - loss: 0.0566 - accuracy: 0.98 - ETA: 1s - loss: 0.0561 - accuracy: 0.98 - ETA: 1s - loss: 0.0556 - accuracy: 0.98 - ETA: 1s - loss: 0.0554 - accuracy: 0.98 - ETA: 1s - loss: 0.0547 - accuracy: 0.98 - ETA: 1s - loss: 0.0539 - accuracy: 0.98 - ETA: 1s - loss: 0.0558 - accuracy: 0.98 - ETA: 1s - loss: 0.0561 - accuracy: 0.98 - ETA: 1s - loss: 0.0555 - accuracy: 0.98 - ETA: 1s - loss: 0.0562 - accuracy: 0.98 - ETA: 1s - loss: 0.0561 - accuracy: 0.98 - ETA: 0s - loss: 0.0569 - accuracy: 0.98 - ETA: 0s - loss: 0.0576 - accuracy: 0.98 - ETA: 0s - loss: 0.0573 - accuracy: 0.98 - ETA: 0s - loss: 0.0572 - accuracy: 0.98 - ETA: 0s - loss: 0.0565 - accuracy: 0.98 - ETA: 0s - loss: 0.0579 - accuracy: 0.98 - ETA: 0s - loss: 0.0583 - accuracy: 0.98 - ETA: 0s - loss: 0.0584 - accuracy: 0.98 - ETA: 0s - loss: 0.0602 - accuracy: 0.97 - ETA: 0s - loss: 0.0592 - accuracy: 0.97 - ETA: 0s - loss: 0.0590 - accuracy: 0.97 - ETA: 0s - loss: 0.0595 - accuracy: 0.97 - ETA: 0s - loss: 0.0597 - accuracy: 0.97 - ETA: 0s - loss: 0.0600 - accuracy: 0.97 - ETA: 0s - loss: 0.0600 - accuracy: 0.97 - 4s 42ms/step - loss: 0.0598 - accuracy: 0.9799 - val_loss: 0.0851 - val_accuracy: 0.9672\n"
     ]
    }
   ],
   "source": [
    "    history = model.fit(X_train, y_train, validation_data=(X_validation, y_validation), batch_size=32, epochs=30)"
   ]
  },
  {
   "cell_type": "code",
   "execution_count": 25,
   "metadata": {},
   "outputs": [
    {
     "name": "stdout",
     "output_type": "stream",
     "text": [
      "confusion Matrix:\n",
      "[[590   0   0]\n",
      " [  1 541  48]\n",
      " [  0  30 550]]\n",
      "\n",
      "precision_recall:\n",
      "(array([0.99830795, 0.9474606 , 0.91973244]), array([1.        , 0.91694915, 0.94827586]), array([0.99915326, 0.93195521, 0.93378608]), array([590, 590, 580], dtype=int64))\n",
      "\n",
      "accuracy_score:\n",
      "0.9551136363636363\n"
     ]
    },
    {
     "ename": "AttributeError",
     "evalue": "'numpy.ndarray' object has no attribute 'count'",
     "output_type": "error",
     "traceback": [
      "\u001b[1;31m---------------------------------------------------------------------------\u001b[0m",
      "\u001b[1;31mAttributeError\u001b[0m                            Traceback (most recent call last)",
      "\u001b[1;32m<ipython-input-25-753ec8f8cbbc>\u001b[0m in \u001b[0;36m<module>\u001b[1;34m\u001b[0m\n\u001b[0;32m     16\u001b[0m \u001b[0mprint\u001b[0m\u001b[1;33m(\u001b[0m\u001b[1;34m\"\\naccuracy_score:\"\u001b[0m\u001b[1;33m)\u001b[0m\u001b[1;33m\u001b[0m\u001b[1;33m\u001b[0m\u001b[0m\n\u001b[0;32m     17\u001b[0m \u001b[0mprint\u001b[0m\u001b[1;33m(\u001b[0m\u001b[0mcma\u001b[0m\u001b[1;33m)\u001b[0m\u001b[1;33m\u001b[0m\u001b[1;33m\u001b[0m\u001b[0m\n\u001b[1;32m---> 18\u001b[1;33m \u001b[0mc\u001b[0m\u001b[1;33m=\u001b[0m\u001b[1;33m(\u001b[0m\u001b[0my_test\u001b[0m\u001b[1;33m==\u001b[0m\u001b[1;36m1\u001b[0m\u001b[1;33m)\u001b[0m\u001b[1;33m.\u001b[0m\u001b[0mcount\u001b[0m\u001b[1;33m(\u001b[0m\u001b[1;32mTrue\u001b[0m\u001b[1;33m)\u001b[0m\u001b[1;33m\u001b[0m\u001b[1;33m\u001b[0m\u001b[0m\n\u001b[0m\u001b[0;32m     19\u001b[0m \u001b[0mprint\u001b[0m\u001b[1;33m(\u001b[0m\u001b[0mc\u001b[0m\u001b[1;33m)\u001b[0m\u001b[1;33m\u001b[0m\u001b[1;33m\u001b[0m\u001b[0m\n",
      "\u001b[1;31mAttributeError\u001b[0m: 'numpy.ndarray' object has no attribute 'count'"
     ]
    }
   ],
   "source": [
    "from sklearn.svm import SVC\n",
    "from sklearn.metrics import accuracy_score, confusion_matrix, precision_recall_fscore_support\n",
    "from keras.utils import to_categorical\n",
    "\n",
    "Y_test = to_categorical(y_test, num_classes=3)\n",
    "y_pred = model.predict(X_test)\n",
    "y_pred = np.argmax(y_pred, axis=1)\n",
    "cm = confusion_matrix(y_pred,y_test)\n",
    "print(\"confusion Matrix:\")\n",
    "print(cm)\n",
    "cma =  precision_recall_fscore_support(y_pred,y_test)\n",
    "print(\"\\nprecision_recall:\")\n",
    "print(cma)\n",
    "\n",
    "cma =  accuracy_score(y_pred,y_test)\n",
    "print(\"\\naccuracy_score:\")\n",
    "print(cma)\n",
    "c=(y_test==1)\n",
    "print(c)"
   ]
  },
  {
   "cell_type": "code",
   "execution_count": 25,
   "metadata": {
    "tags": [
     "Graph_ploat"
    ]
   },
   "outputs": [
    {
     "data": {
      "image/png": "[encoded data removed]",
      "text/plain": [
       "<Figure size 432x288 with 1 Axes>"
      ]
     },
     "metadata": {
      "needs_background": "light"
     },
     "output_type": "display_data"
    },
    {
     "data": {
      "image/png": "[encoded data removed]",
      "text/plain": [
       "<Figure size 432x288 with 1 Axes>"
      ]
     },
     "metadata": {
      "needs_background": "light"
     },
     "output_type": "display_data"
    }
   ],
   "source": [
    "    plot_history(history)   "
   ]
  },
  {
   "cell_type": "code",
   "execution_count": 16,
   "metadata": {
    "tags": [
     "Test_data_accurasy_Predict"
    ]
   },
   "outputs": [
    {
     "name": "stdout",
     "output_type": "stream",
     "text": [
      "55/55 - 0s - loss: 0.1422 - accuracy: 0.9438\n",
      "\n",
      "Test accuracy: 0.9437500238418579\n"
     ]
    }
   ],
   "source": [
    "    \n",
    "    test_loss, test_acc = model.evaluate(X_test, y_test, verbose=2)\n",
    "    print('\\nTest accuracy:', test_acc)"
   ]
  },
  {
   "cell_type": "code",
   "execution_count": 17,
   "metadata": {
    "tags": [
     "Check_prediction"
    ]
   },
   "outputs": [
    {
     "name": "stdout",
     "output_type": "stream",
     "text": [
      "Target: 0, Predicted label: [0]\n"
     ]
    }
   ],
   "source": [
    "    X_to_predict = X_test[30]\n",
    "    y_to_predict = y_test[30]\n",
    "\n",
    "    predict(model, X_to_predict, y_to_predict)"
   ]
  },
  {
   "cell_type": "code",
   "execution_count": 18,
   "metadata": {
    "tags": [
     "Test_audio_convert_MFCC_and_predict"
    ]
   },
   "outputs": [],
   "source": [
    "def test_data_analyze(file_path):\n",
    "    data = {\n",
    "        \"mfcc\": []\n",
    "    }\n",
    "    num_mfcc=13\n",
    "    n_fft=2048\n",
    "    hop_length=512\n",
    "    num_segments=1\n",
    "    c = 0\n",
    "    k = 0\n",
    "    \n",
    "    samples_per_segment = int(SAMPLES_PER_TRACK / num_segments)\n",
    "    num_mfcc_vectors_per_segment = math.ceil(samples_per_segment / hop_length)\n",
    "    signal, sample_rate = librosa.load(file_path,sr=SAMPLE_RATE)\n",
    "    if len(signal) >= SAMPLE_RATE:\n",
    "        signals = signal\n",
    "    else:\n",
    "        signal = np.pad(\n",
    "            signal,\n",
    "            pad_width=(SAMPLE_RATE - len(signal), 0),\n",
    "            mode=\"constant\",\n",
    "            constant_values=(0, 0),\n",
    "        )\n",
    "    start = samples_per_segment \n",
    "    finish = start + samples_per_segment\n",
    "    mfcc = librosa.feature.mfcc(signal[start:finish], sample_rate, n_mfcc=num_mfcc, n_fft=n_fft, hop_length=hop_length)\n",
    "    mfcc = mfcc.T\n",
    "\n",
    "    if len(mfcc) == num_mfcc_vectors_per_segment:\n",
    "        data[\"mfcc\"].append(mfcc.tolist())\n",
    "    with open(json_path1, \"w\") as fp:\n",
    "        json.dump(data, fp, indent=4)\n",
    "    with open(json_path1, \"r\") as fp:\n",
    "        data = json.load(fp)\n",
    "    X = np.array(data[\"mfcc\"])\n",
    "    X = X[..., np.newaxis]\n",
    "    y = X[0]\n",
    "    y = y[np.newaxis, ...]\n",
    "\n",
    "    prediction = model.predict(y)\n",
    "\n",
    "    predicted_index = np.argmax(prediction, axis=1)\n",
    "    #print(file_path)\n",
    "    #print(predicted_index)\n",
    "    return predicted_index\n",
    "\n",
    "    "
   ]
  },
  {
   "cell_type": "code",
   "execution_count": 19,
   "metadata": {
    "tags": [
     "Fuction_to_open_File_directroy"
    ]
   },
   "outputs": [],
   "source": [
    "def vvvv():\n",
    "    l=0\n",
    "    h=0\n",
    "    dataset_path='test'\n",
    "    for i, (dirpath, dirnames, filenames) in enumerate(os.walk(dataset_path)): \n",
    "        for f in filenames: \n",
    "            file_path = os.path.join(dirpath, f)\n",
    "            z=test_data_analyze(file_path)\n",
    "            print(\" target={} predicted_index= {} number={} \".format((h-1), z,h))\n",
    "            if z == h-1:\n",
    "                #print(\" target={} predicted_index= {} number={} \".format((h-1), z,h))\n",
    "                l = l + 1\n",
    "        h += 1\n",
    "        print(\" ************target={}  \".format(l))\n",
    "    print(\"Test_data_accurasy={}\".format(l/3))\n"
   ]
  },
  {
   "cell_type": "code",
   "execution_count": 20,
   "metadata": {
    "tags": [
     "Call_the_Function"
    ]
   },
   "outputs": [
    {
     "name": "stdout",
     "output_type": "stream",
     "text": [
      " ************target=0  \n",
      " target=0 predicted_index= [0] number=1 \n",
      " target=0 predicted_index= [0] number=1 \n",
      " target=0 predicted_index= [0] number=1 \n",
      " target=0 predicted_index= [0] number=1 \n",
      " target=0 predicted_index= [0] number=1 \n",
      " target=0 predicted_index= [2] number=1 \n",
      " target=0 predicted_index= [0] number=1 \n",
      " target=0 predicted_index= [1] number=1 \n",
      " target=0 predicted_index= [1] number=1 \n",
      " target=0 predicted_index= [0] number=1 \n",
      " target=0 predicted_index= [0] number=1 \n",
      " target=0 predicted_index= [0] number=1 \n",
      " target=0 predicted_index= [1] number=1 \n",
      " target=0 predicted_index= [0] number=1 \n",
      " target=0 predicted_index= [2] number=1 \n",
      " target=0 predicted_index= [1] number=1 \n",
      " target=0 predicted_index= [0] number=1 \n",
      " target=0 predicted_index= [0] number=1 \n",
      " target=0 predicted_index= [2] number=1 \n",
      " target=0 predicted_index= [1] number=1 \n",
      " target=0 predicted_index= [1] number=1 \n",
      " target=0 predicted_index= [1] number=1 \n",
      " target=0 predicted_index= [1] number=1 \n",
      " target=0 predicted_index= [1] number=1 \n",
      " target=0 predicted_index= [1] number=1 \n",
      " target=0 predicted_index= [0] number=1 \n",
      " target=0 predicted_index= [0] number=1 \n",
      " target=0 predicted_index= [0] number=1 \n",
      " target=0 predicted_index= [0] number=1 \n",
      " target=0 predicted_index= [1] number=1 \n",
      " target=0 predicted_index= [2] number=1 \n",
      " target=0 predicted_index= [1] number=1 \n",
      " target=0 predicted_index= [0] number=1 \n",
      " target=0 predicted_index= [0] number=1 \n",
      " target=0 predicted_index= [1] number=1 \n",
      " target=0 predicted_index= [2] number=1 \n",
      " target=0 predicted_index= [0] number=1 \n",
      " target=0 predicted_index= [0] number=1 \n",
      " target=0 predicted_index= [0] number=1 \n",
      " target=0 predicted_index= [1] number=1 \n",
      " target=0 predicted_index= [0] number=1 \n",
      " target=0 predicted_index= [1] number=1 \n",
      " target=0 predicted_index= [1] number=1 \n",
      " target=0 predicted_index= [0] number=1 \n",
      " target=0 predicted_index= [1] number=1 \n",
      " target=0 predicted_index= [1] number=1 \n",
      " target=0 predicted_index= [1] number=1 \n",
      " target=0 predicted_index= [1] number=1 \n",
      " target=0 predicted_index= [0] number=1 \n",
      " target=0 predicted_index= [0] number=1 \n",
      " target=0 predicted_index= [1] number=1 \n",
      " target=0 predicted_index= [0] number=1 \n",
      " target=0 predicted_index= [0] number=1 \n",
      " target=0 predicted_index= [1] number=1 \n",
      " target=0 predicted_index= [0] number=1 \n",
      " target=0 predicted_index= [1] number=1 \n",
      " target=0 predicted_index= [0] number=1 \n",
      " target=0 predicted_index= [0] number=1 \n",
      " target=0 predicted_index= [0] number=1 \n",
      " target=0 predicted_index= [0] number=1 \n",
      " target=0 predicted_index= [0] number=1 \n",
      " target=0 predicted_index= [0] number=1 \n",
      " target=0 predicted_index= [1] number=1 \n",
      " target=0 predicted_index= [1] number=1 \n",
      " target=0 predicted_index= [1] number=1 \n",
      " target=0 predicted_index= [0] number=1 \n",
      " target=0 predicted_index= [0] number=1 \n",
      " target=0 predicted_index= [0] number=1 \n",
      " target=0 predicted_index= [0] number=1 \n",
      " target=0 predicted_index= [0] number=1 \n",
      " target=0 predicted_index= [1] number=1 \n",
      " target=0 predicted_index= [1] number=1 \n",
      " target=0 predicted_index= [1] number=1 \n",
      " target=0 predicted_index= [0] number=1 \n",
      " target=0 predicted_index= [0] number=1 \n",
      " target=0 predicted_index= [0] number=1 \n",
      " target=0 predicted_index= [0] number=1 \n",
      " target=0 predicted_index= [0] number=1 \n",
      " target=0 predicted_index= [1] number=1 \n",
      " target=0 predicted_index= [0] number=1 \n",
      " target=0 predicted_index= [1] number=1 \n",
      " target=0 predicted_index= [0] number=1 \n",
      " target=0 predicted_index= [1] number=1 \n",
      " target=0 predicted_index= [0] number=1 \n",
      " target=0 predicted_index= [0] number=1 \n",
      " target=0 predicted_index= [0] number=1 \n",
      " target=0 predicted_index= [1] number=1 \n",
      " target=0 predicted_index= [1] number=1 \n",
      " target=0 predicted_index= [1] number=1 \n",
      " target=0 predicted_index= [1] number=1 \n",
      " target=0 predicted_index= [0] number=1 \n",
      " target=0 predicted_index= [1] number=1 \n",
      " target=0 predicted_index= [2] number=1 \n",
      " target=0 predicted_index= [2] number=1 \n",
      " target=0 predicted_index= [2] number=1 \n",
      " target=0 predicted_index= [1] number=1 \n",
      " target=0 predicted_index= [1] number=1 \n",
      " target=0 predicted_index= [1] number=1 \n",
      " target=0 predicted_index= [1] number=1 \n",
      " target=0 predicted_index= [2] number=1 \n",
      " ************target=50  \n",
      " target=1 predicted_index= [1] number=2 \n",
      " target=1 predicted_index= [2] number=2 \n",
      " target=1 predicted_index= [2] number=2 \n",
      " target=1 predicted_index= [1] number=2 \n",
      " target=1 predicted_index= [1] number=2 \n",
      " target=1 predicted_index= [2] number=2 \n",
      " target=1 predicted_index= [1] number=2 \n",
      " target=1 predicted_index= [1] number=2 \n",
      " target=1 predicted_index= [1] number=2 \n",
      " target=1 predicted_index= [1] number=2 \n",
      " target=1 predicted_index= [2] number=2 \n",
      " target=1 predicted_index= [2] number=2 \n",
      " target=1 predicted_index= [1] number=2 \n",
      " target=1 predicted_index= [2] number=2 \n",
      " target=1 predicted_index= [2] number=2 \n",
      " target=1 predicted_index= [1] number=2 \n",
      " target=1 predicted_index= [1] number=2 \n",
      " target=1 predicted_index= [2] number=2 \n",
      " target=1 predicted_index= [2] number=2 \n",
      " target=1 predicted_index= [1] number=2 \n",
      " target=1 predicted_index= [1] number=2 \n",
      " target=1 predicted_index= [1] number=2 \n",
      " target=1 predicted_index= [1] number=2 \n",
      " target=1 predicted_index= [1] number=2 \n",
      " target=1 predicted_index= [1] number=2 \n",
      " target=1 predicted_index= [1] number=2 \n",
      " target=1 predicted_index= [2] number=2 \n",
      " target=1 predicted_index= [1] number=2 \n",
      " target=1 predicted_index= [1] number=2 \n",
      " target=1 predicted_index= [1] number=2 \n",
      " target=1 predicted_index= [1] number=2 \n",
      " target=1 predicted_index= [1] number=2 \n",
      " target=1 predicted_index= [2] number=2 \n",
      " target=1 predicted_index= [1] number=2 \n",
      " target=1 predicted_index= [1] number=2 \n",
      " target=1 predicted_index= [2] number=2 \n",
      " target=1 predicted_index= [1] number=2 \n",
      " target=1 predicted_index= [1] number=2 \n",
      " target=1 predicted_index= [1] number=2 \n",
      " target=1 predicted_index= [1] number=2 \n",
      " target=1 predicted_index= [2] number=2 \n",
      " target=1 predicted_index= [1] number=2 \n",
      " target=1 predicted_index= [1] number=2 \n",
      " target=1 predicted_index= [2] number=2 \n",
      " target=1 predicted_index= [1] number=2 \n",
      " target=1 predicted_index= [1] number=2 \n",
      " target=1 predicted_index= [1] number=2 \n",
      " target=1 predicted_index= [1] number=2 \n",
      " target=1 predicted_index= [2] number=2 \n",
      " target=1 predicted_index= [2] number=2 \n",
      " target=1 predicted_index= [1] number=2 \n",
      " target=1 predicted_index= [1] number=2 \n",
      " target=1 predicted_index= [1] number=2 \n",
      " target=1 predicted_index= [2] number=2 \n",
      " target=1 predicted_index= [2] number=2 \n",
      " target=1 predicted_index= [1] number=2 \n",
      " target=1 predicted_index= [2] number=2 \n",
      " target=1 predicted_index= [1] number=2 \n",
      " target=1 predicted_index= [1] number=2 \n",
      " target=1 predicted_index= [1] number=2 \n",
      " target=1 predicted_index= [1] number=2 \n",
      " target=1 predicted_index= [1] number=2 \n",
      " target=1 predicted_index= [1] number=2 \n",
      " target=1 predicted_index= [1] number=2 \n",
      " target=1 predicted_index= [2] number=2 \n",
      " target=1 predicted_index= [1] number=2 \n",
      " target=1 predicted_index= [1] number=2 \n",
      " target=1 predicted_index= [1] number=2 \n",
      " target=1 predicted_index= [1] number=2 \n",
      " target=1 predicted_index= [2] number=2 \n",
      " target=1 predicted_index= [1] number=2 \n",
      " target=1 predicted_index= [1] number=2 \n",
      " target=1 predicted_index= [1] number=2 \n",
      " target=1 predicted_index= [1] number=2 \n",
      " target=1 predicted_index= [2] number=2 \n",
      " target=1 predicted_index= [1] number=2 \n",
      " target=1 predicted_index= [1] number=2 \n",
      " target=1 predicted_index= [2] number=2 \n",
      " target=1 predicted_index= [1] number=2 \n",
      " target=1 predicted_index= [1] number=2 \n",
      " target=1 predicted_index= [1] number=2 \n",
      " target=1 predicted_index= [1] number=2 \n",
      " target=1 predicted_index= [1] number=2 \n",
      " target=1 predicted_index= [2] number=2 \n",
      " target=1 predicted_index= [1] number=2 \n",
      " target=1 predicted_index= [1] number=2 \n",
      " target=1 predicted_index= [1] number=2 \n",
      " target=1 predicted_index= [1] number=2 \n",
      " target=1 predicted_index= [1] number=2 \n",
      " target=1 predicted_index= [1] number=2 \n",
      " target=1 predicted_index= [2] number=2 \n",
      " target=1 predicted_index= [1] number=2 \n",
      " target=1 predicted_index= [2] number=2 \n",
      " target=1 predicted_index= [2] number=2 \n",
      " target=1 predicted_index= [2] number=2 \n",
      " target=1 predicted_index= [1] number=2 \n",
      " target=1 predicted_index= [1] number=2 \n",
      " target=1 predicted_index= [1] number=2 \n",
      " target=1 predicted_index= [2] number=2 \n",
      " target=1 predicted_index= [1] number=2 \n",
      " ************target=121  \n",
      " target=2 predicted_index= [2] number=3 \n",
      " target=2 predicted_index= [2] number=3 \n",
      " target=2 predicted_index= [2] number=3 \n",
      " target=2 predicted_index= [2] number=3 \n",
      " target=2 predicted_index= [2] number=3 \n",
      " target=2 predicted_index= [2] number=3 \n",
      " target=2 predicted_index= [1] number=3 \n",
      " target=2 predicted_index= [2] number=3 \n",
      " target=2 predicted_index= [2] number=3 \n",
      " target=2 predicted_index= [2] number=3 \n",
      " target=2 predicted_index= [2] number=3 \n",
      " target=2 predicted_index= [2] number=3 \n",
      " target=2 predicted_index= [2] number=3 \n",
      " target=2 predicted_index= [2] number=3 \n",
      " target=2 predicted_index= [2] number=3 \n",
      " target=2 predicted_index= [1] number=3 \n",
      " target=2 predicted_index= [1] number=3 \n",
      " target=2 predicted_index= [2] number=3 \n",
      " target=2 predicted_index= [2] number=3 \n",
      " target=2 predicted_index= [2] number=3 \n",
      " target=2 predicted_index= [2] number=3 \n",
      " target=2 predicted_index= [2] number=3 \n",
      " target=2 predicted_index= [2] number=3 \n",
      " target=2 predicted_index= [2] number=3 \n",
      " target=2 predicted_index= [1] number=3 \n",
      " target=2 predicted_index= [2] number=3 \n",
      " target=2 predicted_index= [2] number=3 \n",
      " target=2 predicted_index= [2] number=3 \n",
      " target=2 predicted_index= [2] number=3 \n",
      " target=2 predicted_index= [2] number=3 \n",
      " target=2 predicted_index= [2] number=3 \n",
      " target=2 predicted_index= [2] number=3 \n",
      " target=2 predicted_index= [2] number=3 \n",
      " target=2 predicted_index= [2] number=3 \n",
      " target=2 predicted_index= [2] number=3 \n",
      " target=2 predicted_index= [2] number=3 \n",
      " target=2 predicted_index= [2] number=3 \n",
      " target=2 predicted_index= [2] number=3 \n",
      " target=2 predicted_index= [2] number=3 \n",
      " target=2 predicted_index= [2] number=3 \n",
      " target=2 predicted_index= [2] number=3 \n",
      " target=2 predicted_index= [2] number=3 \n",
      " target=2 predicted_index= [2] number=3 \n",
      " target=2 predicted_index= [2] number=3 \n",
      " target=2 predicted_index= [2] number=3 \n",
      " target=2 predicted_index= [2] number=3 \n",
      " target=2 predicted_index= [1] number=3 \n",
      " target=2 predicted_index= [2] number=3 \n",
      " target=2 predicted_index= [2] number=3 \n",
      " target=2 predicted_index= [2] number=3 \n",
      " target=2 predicted_index= [2] number=3 \n",
      " target=2 predicted_index= [2] number=3 \n",
      " target=2 predicted_index= [2] number=3 \n",
      " target=2 predicted_index= [2] number=3 \n",
      " target=2 predicted_index= [2] number=3 \n",
      " target=2 predicted_index= [2] number=3 \n",
      " target=2 predicted_index= [2] number=3 \n",
      " target=2 predicted_index= [2] number=3 \n",
      " target=2 predicted_index= [2] number=3 \n",
      " target=2 predicted_index= [2] number=3 \n",
      " target=2 predicted_index= [1] number=3 \n",
      " target=2 predicted_index= [2] number=3 \n",
      " target=2 predicted_index= [2] number=3 \n",
      " target=2 predicted_index= [2] number=3 \n",
      " target=2 predicted_index= [2] number=3 \n",
      " target=2 predicted_index= [2] number=3 \n",
      " target=2 predicted_index= [2] number=3 \n",
      " target=2 predicted_index= [2] number=3 \n",
      " target=2 predicted_index= [2] number=3 \n",
      " target=2 predicted_index= [2] number=3 \n",
      " target=2 predicted_index= [2] number=3 \n",
      " target=2 predicted_index= [2] number=3 \n",
      " target=2 predicted_index= [2] number=3 \n",
      " target=2 predicted_index= [1] number=3 \n",
      " target=2 predicted_index= [2] number=3 \n",
      " target=2 predicted_index= [2] number=3 \n",
      " target=2 predicted_index= [2] number=3 \n",
      " target=2 predicted_index= [1] number=3 \n",
      " target=2 predicted_index= [2] number=3 \n",
      " target=2 predicted_index= [2] number=3 \n",
      " target=2 predicted_index= [2] number=3 \n",
      " target=2 predicted_index= [1] number=3 \n",
      " target=2 predicted_index= [2] number=3 \n",
      " target=2 predicted_index= [2] number=3 \n",
      " target=2 predicted_index= [2] number=3 \n",
      " target=2 predicted_index= [2] number=3 \n",
      " target=2 predicted_index= [2] number=3 \n",
      " target=2 predicted_index= [1] number=3 \n",
      " target=2 predicted_index= [2] number=3 \n",
      " target=2 predicted_index= [2] number=3 \n",
      " target=2 predicted_index= [1] number=3 \n",
      " target=2 predicted_index= [2] number=3 \n",
      " target=2 predicted_index= [2] number=3 \n",
      " target=2 predicted_index= [1] number=3 \n",
      " target=2 predicted_index= [2] number=3 \n",
      " target=2 predicted_index= [2] number=3 \n",
      " target=2 predicted_index= [2] number=3 \n",
      " target=2 predicted_index= [2] number=3 \n",
      " target=2 predicted_index= [2] number=3 \n",
      " target=2 predicted_index= [2] number=3 \n",
      " ************target=209  \n",
      "Test_data_accurasy=69.66666666666667\n"
     ]
    }
   ],
   "source": [
    "vvvv()"
   ]
  },
  {
   "cell_type": "code",
   "execution_count": null,
   "metadata": {},
   "outputs": [],
   "source": []
  }
 ],
 "metadata": {
  "celltoolbar": "Tags",
  "kernelspec": {
   "display_name": "Python 3",
   "language": "python",
   "name": "python3"
  },
  "language_info": {
   "codemirror_mode": {
    "name": "ipython",
    "version": 3
   },
   "file_extension": ".py",
   "mimetype": "text/x-python",
   "name": "python",
   "nbconvert_exporter": "python",
   "pygments_lexer": "ipython3",
   "version": "3.8.5"
  }
 },
 "nbformat": 4,
 "nbformat_minor": 4
}
